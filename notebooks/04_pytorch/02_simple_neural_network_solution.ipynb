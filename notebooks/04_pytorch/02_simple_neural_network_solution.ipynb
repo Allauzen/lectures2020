{
 "cells": [
  {
   "cell_type": "markdown",
   "metadata": {},
   "source": [
    "# Simple neural network\n",
    "\n",
    "\n",
    "In this notebook, we are going to create and train a simple neural network on the digits dataset using pytorch."
   ]
  },
  {
   "cell_type": "code",
   "execution_count": 1,
   "metadata": {},
   "outputs": [],
   "source": [
    "import torch\n",
    "import numpy as np\n",
    "import matplotlib.pyplot as plt\n",
    "\n",
    "from sklearn.datasets import load_digits\n",
    "from sklearn.model_selection import train_test_split"
   ]
  },
  {
   "cell_type": "markdown",
   "metadata": {},
   "source": [
    "First, we need to load the data and make them into pytorch tensors."
   ]
  },
  {
   "cell_type": "code",
   "execution_count": 2,
   "metadata": {
    "scrolled": true
   },
   "outputs": [
    {
     "data": {
      "image/png": "[encoded data removed]",
      "text/plain": [
       "<Figure size 432x288 with 3 Axes>"
      ]
     },
     "metadata": {
      "needs_background": "light"
     },
     "output_type": "display_data"
    }
   ],
   "source": [
    "X, y = load_digits(return_X_y=True)\n",
    "\n",
    "# Normalize\n",
    "\n",
    "X -= X.mean(axis=0)\n",
    "X /= np.std(X)\n",
    "X_train, X_test, y_train, y_test = train_test_split(X, y)\n",
    "\n",
    "f, axes = plt.subplots(1, 3)\n",
    "for i, axe in enumerate(axes):\n",
    "    axe.imshow(X[i].reshape(8, 8))\n",
    "\n",
    "x = torch.tensor(X_train).float()\n",
    "y = torch.tensor(y_train).long()\n",
    "n, p = x.shape\n",
    "x_test = torch.tensor(X_test).float()\n",
    "y_test = torch.tensor(y_test).long()"
   ]
  },
  {
   "cell_type": "markdown",
   "metadata": {},
   "source": [
    "# Define the network\n",
    "\n",
    "We will work with a simple network with two layers (one hidden layer).\n",
    "\n",
    "The input $x$ is transformed into the output $z$ by the following operations:\n",
    "\n",
    "$$y = \\tanh(W_1x + b_1)$$\n",
    "$$z = W_2y + b_2$$\n",
    "\n",
    "**Exercise 1**: Define a function `net(x, W1, b1, W2, b2)` that implements this transform. Remember that `x` is a matrix of size $n\\times p$"
   ]
  },
  {
   "cell_type": "code",
   "execution_count": 3,
   "metadata": {},
   "outputs": [],
   "source": [
    "def net(x, W1, b1, W2, b2):\n",
    "    y = x.mm(W1) + b1\n",
    "    y = torch.tanh(y)\n",
    "    z = y.mm(W2) + b2\n",
    "    return z"
   ]
  },
  {
   "cell_type": "markdown",
   "metadata": {},
   "source": [
    "Next, let us specify the parameters of the network, `W1, b1, W2, b2`. You can chose the size of the hidden layer, but the input and output sizes are determined by the problem.\n",
    "\n",
    "**Exercise 2**: Define a set of parameters `W1, b1, W2, b2`, where you chose the size of the hidden layer. Make sure that all these parameters have their `requires_grad` flag set to true, so that we can compute the gradient with respect to them.\n",
    "\n",
    "In order to check that eveything works, compute `net(x, W1, b1, W2, b2)`."
   ]
  },
  {
   "cell_type": "code",
   "execution_count": 4,
   "metadata": {},
   "outputs": [],
   "source": [
    "hidden_size = 20\n",
    "input_size = 64\n",
    "output_size = 10\n",
    "\n",
    "W1 = torch.randn(input_size, hidden_size, requires_grad=True)\n",
    "b1 = torch.randn(hidden_size, requires_grad=True)\n",
    "W2 = torch.randn(hidden_size, output_size, requires_grad=True)\n",
    "b2 = torch.randn(output_size, requires_grad=True)\n",
    "output = net(x, W1, b1, W2, b2)"
   ]
  },
  {
   "cell_type": "markdown",
   "metadata": {},
   "source": [
    "Next, we will define a cost function. We will use the classical cross entropy loss. It is imported from pytorch in the next cell."
   ]
  },
  {
   "cell_type": "code",
   "execution_count": 5,
   "metadata": {},
   "outputs": [],
   "source": [
    "from torch.nn.functional import cross_entropy"
   ]
  },
  {
   "cell_type": "markdown",
   "metadata": {},
   "source": [
    "**Exercise 3**: Compute the current loss of the network, and then back-propagate to compute the gradient with respect to the parameters. Check the gradient with respect to W1."
   ]
  },
  {
   "cell_type": "code",
   "execution_count": 6,
   "metadata": {
    "scrolled": true
   },
   "outputs": [
    {
     "name": "stdout",
     "output_type": "stream",
     "text": [
      "7.232069492340088\n",
      "tensor([[ 0.0000,  0.0000,  0.0000,  ...,  0.0000,  0.0000,  0.0000],\n",
      "        [-0.0024, -0.0057, -0.0009,  ..., -0.0020,  0.0006,  0.0025],\n",
      "        [-0.0165, -0.0383, -0.0030,  ..., -0.0151,  0.0094,  0.0178],\n",
      "        ...,\n",
      "        [ 0.0186,  0.0295, -0.0262,  ...,  0.0454, -0.0241, -0.0166],\n",
      "        [ 0.0064,  0.0192, -0.0248,  ...,  0.0027, -0.0168,  0.0091],\n",
      "        [ 0.0021,  0.0032, -0.0005,  ..., -0.0016, -0.0009,  0.0075]])\n"
     ]
    }
   ],
   "source": [
    "loss = cross_entropy(output, y)\n",
    "print(loss.item())\n",
    "loss.backward()\n",
    "print(W1.grad)"
   ]
  },
  {
   "cell_type": "markdown",
   "metadata": {},
   "source": [
    "We are almost ready to train our network!\n",
    "\n",
    "But first, we will need to compute the accuracy of the network, on the train and test set.\n",
    "\n",
    "**Exercise 4**: Define a function `accuracy(X, y, W1, b1, W2, b2)` that computes the accuracy of the network on the dataset `x`with true labels `y`. Remember that the predicted class at the output of the network is computed as the argmaximum of the output. Compute the current accuracy of the network on the train set. Is it normal ?"
   ]
  },
  {
   "cell_type": "code",
   "execution_count": 7,
   "metadata": {
    "slideshow": {
     "slide_type": "subslide"
    }
   },
   "outputs": [
    {
     "data": {
      "text/plain": [
       "0.10393466963622866"
      ]
     },
     "execution_count": 7,
     "metadata": {},
     "output_type": "execute_result"
    }
   ],
   "source": [
    "def accuracy(X, y, W1, b1, W2, b2):\n",
    "    output = net(X, W1, b1, W2, b2)\n",
    "    pred = output.argmax(axis=1)\n",
    "    return (pred == y).sum().item() / len(y)\n",
    "\n",
    "\n",
    "accuracy(x, y, W1, b1, W2, b2)"
   ]
  },
  {
   "cell_type": "markdown",
   "metadata": {},
   "source": [
    "# Training the network\n",
    "\n",
    "We are now ready to train the network, using back-propagation and stochastic gradient descent.\n",
    "First, we define the number of iterations of the algorithm, the step size, and the batch size. We also reinitialize the weights. Finally, we will store the train and test accuracy during the training."
   ]
  },
  {
   "cell_type": "code",
   "execution_count": 8,
   "metadata": {},
   "outputs": [],
   "source": [
    "n_iter = 1000\n",
    "step_size = 0.1\n",
    "batch_size = 64\n",
    "\n",
    "\n",
    "W1 = torch.randn(input_size, hidden_size, requires_grad=True)\n",
    "b1 = torch.randn(hidden_size, requires_grad=True)\n",
    "W2 = torch.randn(hidden_size, output_size, requires_grad=True)\n",
    "b2 = torch.randn(output_size, requires_grad=True)\n",
    "\n",
    "test_list = []\n",
    "train_list = []"
   ]
  },
  {
   "cell_type": "markdown",
   "metadata": {},
   "source": [
    "**Exercise 5**: Complete the following training list, so that each parameter is updated at each iteration.\n",
    "\n",
    "Remember that at each iteration, you should:\n",
    "* compute the output of the network with respect to the batch\n",
    "* Compute the loss, and backpropagate\n",
    "* Update each parameter with gradient descent\n",
    "* Refresh the gradient of each parameter. To do so, you can do:\n",
    "\n",
    "```\n",
    "W1 = W1.detach()\n",
    "W1.requires_grad=True\n",
    "```"
   ]
  },
  {
   "cell_type": "code",
   "execution_count": 9,
   "metadata": {
    "scrolled": true
   },
   "outputs": [
    {
     "name": "stdout",
     "output_type": "stream",
     "text": [
      "Iteration 0 Train loss: 7.466 Train acc: 0.061 Test acc 0.084\n",
      "Iteration 10 Train loss: 6.943 Train acc: 0.103 Test acc 0.138\n",
      "Iteration 20 Train loss: 4.972 Train acc: 0.159 Test acc 0.209\n",
      "Iteration 30 Train loss: 4.123 Train acc: 0.258 Test acc 0.291\n",
      "Iteration 40 Train loss: 3.044 Train acc: 0.344 Test acc 0.356\n",
      "Iteration 50 Train loss: 2.067 Train acc: 0.425 Test acc 0.436\n",
      "Iteration 60 Train loss: 2.006 Train acc: 0.509 Test acc 0.498\n",
      "Iteration 70 Train loss: 1.492 Train acc: 0.549 Test acc 0.553\n",
      "Iteration 80 Train loss: 1.596 Train acc: 0.590 Test acc 0.578\n",
      "Iteration 90 Train loss: 1.040 Train acc: 0.615 Test acc 0.620\n",
      "Iteration 100 Train loss: 1.625 Train acc: 0.642 Test acc 0.638\n",
      "Iteration 110 Train loss: 1.150 Train acc: 0.656 Test acc 0.647\n",
      "Iteration 120 Train loss: 0.956 Train acc: 0.676 Test acc 0.667\n",
      "Iteration 130 Train loss: 0.923 Train acc: 0.703 Test acc 0.691\n",
      "Iteration 140 Train loss: 1.431 Train acc: 0.722 Test acc 0.716\n",
      "Iteration 150 Train loss: 1.006 Train acc: 0.736 Test acc 0.722\n",
      "Iteration 160 Train loss: 0.838 Train acc: 0.754 Test acc 0.722\n",
      "Iteration 170 Train loss: 0.547 Train acc: 0.766 Test acc 0.729\n",
      "Iteration 180 Train loss: 0.880 Train acc: 0.777 Test acc 0.738\n",
      "Iteration 190 Train loss: 0.566 Train acc: 0.788 Test acc 0.751\n",
      "Iteration 200 Train loss: 0.698 Train acc: 0.796 Test acc 0.764\n",
      "Iteration 210 Train loss: 0.464 Train acc: 0.807 Test acc 0.773\n",
      "Iteration 220 Train loss: 0.849 Train acc: 0.811 Test acc 0.778\n",
      "Iteration 230 Train loss: 0.814 Train acc: 0.817 Test acc 0.778\n",
      "Iteration 240 Train loss: 0.612 Train acc: 0.829 Test acc 0.782\n",
      "Iteration 250 Train loss: 0.413 Train acc: 0.832 Test acc 0.789\n",
      "Iteration 260 Train loss: 0.748 Train acc: 0.837 Test acc 0.793\n",
      "Iteration 270 Train loss: 0.793 Train acc: 0.840 Test acc 0.800\n",
      "Iteration 280 Train loss: 0.375 Train acc: 0.847 Test acc 0.796\n",
      "Iteration 290 Train loss: 0.613 Train acc: 0.853 Test acc 0.793\n",
      "Iteration 300 Train loss: 0.261 Train acc: 0.854 Test acc 0.802\n",
      "Iteration 310 Train loss: 0.337 Train acc: 0.855 Test acc 0.802\n",
      "Iteration 320 Train loss: 0.420 Train acc: 0.860 Test acc 0.807\n",
      "Iteration 330 Train loss: 0.419 Train acc: 0.864 Test acc 0.807\n",
      "Iteration 340 Train loss: 0.204 Train acc: 0.868 Test acc 0.807\n",
      "Iteration 350 Train loss: 0.327 Train acc: 0.873 Test acc 0.809\n",
      "Iteration 360 Train loss: 0.256 Train acc: 0.878 Test acc 0.809\n",
      "Iteration 370 Train loss: 0.286 Train acc: 0.880 Test acc 0.811\n",
      "Iteration 380 Train loss: 0.455 Train acc: 0.883 Test acc 0.816\n",
      "Iteration 390 Train loss: 0.297 Train acc: 0.882 Test acc 0.818\n",
      "Iteration 400 Train loss: 0.595 Train acc: 0.888 Test acc 0.816\n",
      "Iteration 410 Train loss: 0.294 Train acc: 0.890 Test acc 0.818\n",
      "Iteration 420 Train loss: 0.237 Train acc: 0.892 Test acc 0.818\n",
      "Iteration 430 Train loss: 0.282 Train acc: 0.892 Test acc 0.820\n",
      "Iteration 440 Train loss: 0.344 Train acc: 0.894 Test acc 0.827\n",
      "Iteration 450 Train loss: 0.458 Train acc: 0.898 Test acc 0.822\n",
      "Iteration 460 Train loss: 0.295 Train acc: 0.901 Test acc 0.822\n",
      "Iteration 470 Train loss: 0.380 Train acc: 0.903 Test acc 0.827\n",
      "Iteration 480 Train loss: 0.321 Train acc: 0.902 Test acc 0.831\n",
      "Iteration 490 Train loss: 0.334 Train acc: 0.906 Test acc 0.833\n",
      "Iteration 500 Train loss: 0.573 Train acc: 0.906 Test acc 0.836\n",
      "Iteration 510 Train loss: 0.411 Train acc: 0.909 Test acc 0.838\n",
      "Iteration 520 Train loss: 0.471 Train acc: 0.906 Test acc 0.833\n",
      "Iteration 530 Train loss: 0.260 Train acc: 0.908 Test acc 0.836\n",
      "Iteration 540 Train loss: 0.483 Train acc: 0.909 Test acc 0.842\n",
      "Iteration 550 Train loss: 0.384 Train acc: 0.909 Test acc 0.842\n",
      "Iteration 560 Train loss: 0.346 Train acc: 0.912 Test acc 0.844\n",
      "Iteration 570 Train loss: 0.426 Train acc: 0.912 Test acc 0.844\n",
      "Iteration 580 Train loss: 0.232 Train acc: 0.915 Test acc 0.847\n",
      "Iteration 590 Train loss: 0.164 Train acc: 0.918 Test acc 0.842\n",
      "Iteration 600 Train loss: 0.260 Train acc: 0.921 Test acc 0.842\n",
      "Iteration 610 Train loss: 0.190 Train acc: 0.922 Test acc 0.844\n",
      "Iteration 620 Train loss: 0.337 Train acc: 0.923 Test acc 0.847\n",
      "Iteration 630 Train loss: 0.349 Train acc: 0.922 Test acc 0.847\n",
      "Iteration 640 Train loss: 0.240 Train acc: 0.925 Test acc 0.847\n",
      "Iteration 650 Train loss: 0.427 Train acc: 0.927 Test acc 0.849\n",
      "Iteration 660 Train loss: 0.185 Train acc: 0.927 Test acc 0.849\n",
      "Iteration 670 Train loss: 0.088 Train acc: 0.927 Test acc 0.849\n",
      "Iteration 680 Train loss: 0.374 Train acc: 0.929 Test acc 0.849\n",
      "Iteration 690 Train loss: 0.270 Train acc: 0.929 Test acc 0.853\n",
      "Iteration 700 Train loss: 0.132 Train acc: 0.926 Test acc 0.853\n",
      "Iteration 710 Train loss: 0.427 Train acc: 0.927 Test acc 0.853\n",
      "Iteration 720 Train loss: 0.162 Train acc: 0.932 Test acc 0.851\n",
      "Iteration 730 Train loss: 0.307 Train acc: 0.932 Test acc 0.856\n",
      "Iteration 740 Train loss: 0.383 Train acc: 0.932 Test acc 0.860\n",
      "Iteration 750 Train loss: 0.273 Train acc: 0.932 Test acc 0.860\n",
      "Iteration 760 Train loss: 0.230 Train acc: 0.929 Test acc 0.862\n",
      "Iteration 770 Train loss: 0.251 Train acc: 0.930 Test acc 0.862\n",
      "Iteration 780 Train loss: 0.247 Train acc: 0.933 Test acc 0.862\n",
      "Iteration 790 Train loss: 0.351 Train acc: 0.934 Test acc 0.862\n",
      "Iteration 800 Train loss: 0.235 Train acc: 0.935 Test acc 0.862\n",
      "Iteration 810 Train loss: 0.203 Train acc: 0.937 Test acc 0.860\n",
      "Iteration 820 Train loss: 0.111 Train acc: 0.937 Test acc 0.862\n",
      "Iteration 830 Train loss: 0.159 Train acc: 0.937 Test acc 0.864\n",
      "Iteration 840 Train loss: 0.187 Train acc: 0.938 Test acc 0.864\n",
      "Iteration 850 Train loss: 0.174 Train acc: 0.939 Test acc 0.864\n",
      "Iteration 860 Train loss: 0.280 Train acc: 0.941 Test acc 0.869\n",
      "Iteration 870 Train loss: 0.242 Train acc: 0.941 Test acc 0.869\n",
      "Iteration 880 Train loss: 0.190 Train acc: 0.943 Test acc 0.869\n",
      "Iteration 890 Train loss: 0.122 Train acc: 0.944 Test acc 0.869\n",
      "Iteration 900 Train loss: 0.134 Train acc: 0.944 Test acc 0.869\n",
      "Iteration 910 Train loss: 0.213 Train acc: 0.944 Test acc 0.869\n",
      "Iteration 920 Train loss: 0.151 Train acc: 0.944 Test acc 0.867\n",
      "Iteration 930 Train loss: 0.183 Train acc: 0.945 Test acc 0.867\n",
      "Iteration 940 Train loss: 0.177 Train acc: 0.944 Test acc 0.867\n",
      "Iteration 950 Train loss: 0.168 Train acc: 0.945 Test acc 0.867\n",
      "Iteration 960 Train loss: 0.179 Train acc: 0.944 Test acc 0.867\n",
      "Iteration 970 Train loss: 0.194 Train acc: 0.946 Test acc 0.867\n",
      "Iteration 980 Train loss: 0.185 Train acc: 0.946 Test acc 0.869\n",
      "Iteration 990 Train loss: 0.069 Train acc: 0.947 Test acc 0.869\n"
     ]
    }
   ],
   "source": [
    "for i in range(n_iter):\n",
    "    batch_idx = torch.argsort(torch.randn(n))[:batch_size]\n",
    "    x_batch = x[batch_idx]\n",
    "    y_batch = y[batch_idx]\n",
    "    output = net(x_batch, W1, b1, W2, b2)\n",
    "    loss = cross_entropy(output, y_batch)\n",
    "    loss.backward()\n",
    "    with torch.no_grad():\n",
    "        W1 = W1 - step_size * W1.grad\n",
    "        W1 = W1.detach()\n",
    "        W1.requires_grad = True\n",
    "        b1 = b1 - step_size * b1.grad\n",
    "        b1 = b1.detach()\n",
    "        b1.requires_grad = True\n",
    "        W2 = W2 - step_size * W2.grad\n",
    "        W2 = W2.detach()\n",
    "        W2.requires_grad = True\n",
    "        b2 = b2 - step_size * b2.grad\n",
    "        b2 = b2.detach()\n",
    "        b2.requires_grad = True\n",
    "    if i % 10 == 0:\n",
    "        with torch.no_grad():\n",
    "            train_acc = accuracy(x, y, W1, b1, W2, b2)\n",
    "            test_acc = accuracy(x_test, y_test, W1, b1, W2, b2)\n",
    "        test_list.append(test_acc)\n",
    "        train_list.append(train_acc)\n",
    "        print('Iteration {} Train loss: {:1.3f} Train acc: {:1.3f} Test acc {:1.3f}'.format(i, loss.item(), train_acc, test_acc))"
   ]
  },
  {
   "cell_type": "markdown",
   "metadata": {},
   "source": [
    "**Exercise 6**: Display the learning curves. You can then play with the network and training parameters:\n",
    "what happens when you change the learning rate, the number of hidden sizes, etc?"
   ]
  },
  {
   "cell_type": "code",
   "execution_count": 10,
   "metadata": {},
   "outputs": [
    {
     "data": {
      "text/plain": [
       "<matplotlib.legend.Legend at 0x7fcd38066510>"
      ]
     },
     "execution_count": 10,
     "metadata": {},
     "output_type": "execute_result"
    },
    {
     "data": {
      "image/png": "[encoded data removed]",
      "text/plain": [
       "<Figure size 432x288 with 1 Axes>"
      ]
     },
     "metadata": {
      "needs_background": "light"
     },
     "output_type": "display_data"
    }
   ],
   "source": [
    "plt.plot(test_list, label='test')\n",
    "plt.plot(train_list, label='train')\n",
    "\n",
    "plt.ylabel('Accuracy')\n",
    "plt.xlabel('Iterations')\n",
    "plt.legend()"
   ]
  },
  {
   "cell_type": "code",
   "execution_count": null,
   "metadata": {},
   "outputs": [],
   "source": []
  }
 ],
 "metadata": {
  "kernelspec": {
   "display_name": "Python 3",
   "language": "python",
   "name": "python3"
  },
  "language_info": {
   "codemirror_mode": {
    "name": "ipython",
    "version": 3
   },
   "file_extension": ".py",
   "mimetype": "text/x-python",
   "name": "python",
   "nbconvert_exporter": "python",
   "pygments_lexer": "ipython3",
   "version": "3.7.7"
  }
 },
 "nbformat": 4,
 "nbformat_minor": 4
}
