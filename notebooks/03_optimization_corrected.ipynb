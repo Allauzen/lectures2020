{
 "cells": [
  {
   "cell_type": "markdown",
   "metadata": {
    "colab_type": "text",
    "id": "fez2KEiqT0PO"
   },
   "source": [
    "Notebook prepared by Mathieu Blondel (lecture 1) and Pierre Ablin (lecture 2)."
   ]
  },
  {
   "cell_type": "markdown",
   "metadata": {
    "colab_type": "text",
    "id": "VP2BK_aX_I2-"
   },
   "source": [
    "# Lecture 1"
   ]
  },
  {
   "cell_type": "markdown",
   "metadata": {
    "colab_type": "text",
    "id": "UuAYuQ95reai"
   },
   "source": [
    "## Ridge regression"
   ]
  },
  {
   "cell_type": "code",
   "execution_count": 1,
   "metadata": {
    "colab": {},
    "colab_type": "code",
    "id": "3SYMuhGT_1Ok"
   },
   "outputs": [],
   "source": [
    "from sklearn.datasets import load_boston\n",
    "from sklearn.model_selection import train_test_split\n",
    "\n",
    "# Load the Boston housing dataset.\n",
    "X_boston, y_boston = load_boston(return_X_y=True)\n",
    "\n",
    "# Split into 60% training, 20% validation and 20% test.\n",
    "X_boston_tr, X_rest, y_boston_tr, y_rest = \\\n",
    "  train_test_split(X_boston, y_boston, test_size=0.4, random_state=0)\n",
    "X_boston_val, X_boston_te, y_boston_val, y_boston_te = \\\n",
    "  train_test_split(X_rest, y_rest, test_size=0.5, random_state=0)"
   ]
  },
  {
   "cell_type": "markdown",
   "metadata": {
    "colab_type": "text",
    "id": "PtoOJ8agAd95"
   },
   "source": [
    "**Exercise 1.** Implement the analytical solution of ridge regression $(X^\\top X + \\alpha I) w = X^\\top y$ (see [slides](https://data-psl.github.io/lectures2020/slides/05_optimization_linear_models)) using [scipy.linalg.solve](https://docs.scipy.org/doc/scipy/reference/generated/scipy.linalg.solve.html). Compute the solution on the training data. Make sure that the gradient at the solution is zero (up to machine precision)."
   ]
  },
  {
   "cell_type": "code",
   "execution_count": 2,
   "metadata": {
    "colab": {
     "base_uri": "https://localhost:8080/",
     "height": 34
    },
    "colab_type": "code",
    "id": "heG7kuDXB3Md",
    "outputId": "311e1858-5e1e-4fdf-acb8-26c908fb1852"
   },
   "outputs": [
    {
     "data": {
      "text/plain": [
       "1.5704672211782347e-09"
      ]
     },
     "execution_count": 2,
     "metadata": {},
     "output_type": "execute_result"
    }
   ],
   "source": [
    "from scipy.linalg import solve\n",
    "\n",
    "def ridge_regression_solution(X, y, alpha):\n",
    "  n_samples, n_features = X.shape\n",
    "  XX = np.dot(X.T, X)\n",
    "  Xy = np.dot(X.T, y)\n",
    "  I = np.eye(n_features)\n",
    "  w_star = solve(XX + alpha * I, Xy)\n",
    "  return w_star\n",
    "\n",
    "def ridge_regression_gradient(w, X, y, alpha):\n",
    "  XX = np.dot(X.T, X)\n",
    "  Xy = np.dot(X.T, y)\n",
    "  return np.dot(XX, w) - Xy + alpha * w\n",
    "\n",
    "w_star = ridge_regression_solution(X_boston_tr, y_boston_tr, alpha=0.1)\n",
    "\n",
    "gradient = ridge_regression_gradient(w_star, X_boston_tr, y_boston_tr, alpha=0.1)\n",
    "np.sqrt(np.sum(gradient ** 2))"
   ]
  },
  {
   "cell_type": "markdown",
   "metadata": {
    "colab_type": "text",
    "id": "a4wef-U2CGVX"
   },
   "source": [
    "**Exercise 2.** Train the models for several possible values of alpha (see below). Plot the mean squared error on the test set as a function of alpha. Use the validation data to find the best alpha and display it on the graph using a circle."
   ]
  },
  {
   "cell_type": "code",
   "execution_count": 3,
   "metadata": {
    "colab": {
     "base_uri": "https://localhost:8080/",
     "height": 269
    },
    "colab_type": "code",
    "id": "aWDX9MAfC_5I",
    "outputId": "fc5271ef-cf04-40a0-efa7-acf94f9c3133"
   },
   "outputs": [
    {
     "data": {
      "image/png": "[encoded data removed]",
      "text/plain": [
       "<Figure size 432x288 with 1 Axes>"
      ]
     },
     "metadata": {
      "needs_background": "light"
     },
     "output_type": "display_data"
    }
   ],
   "source": [
    "alphas = np.logspace(-3, 3, 20)\n",
    "\n",
    "validation_values = []\n",
    "test_values = []\n",
    "\n",
    "for alpha in alphas:\n",
    "  w_star = ridge_regression_solution(X_boston_tr, y_boston_tr, alpha)\n",
    "  \n",
    "  y_pred_val = np.dot(X_boston_val, w_star)\n",
    "  y_pred_te = np.dot(X_boston_te, w_star)\n",
    "\n",
    "  mse_val = np.mean((y_boston_val - y_pred_val) ** 2)\n",
    "  mse_te = np.mean((y_boston_te - y_pred_te) ** 2)\n",
    "\n",
    "  validation_values.append(mse_val)\n",
    "  test_values.append(mse_te)\n",
    "\n",
    "best_alpha_index = np.argmin(validation_values)\n",
    "best_alpha = alphas[best_alpha_index]\n",
    "best_value = test_values[best_alpha_index]\n",
    "\n",
    "import matplotlib.pyplot as plt\n",
    "plt.figure()\n",
    "plt.plot(alphas, test_values, label=\"Test\")\n",
    "plt.plot(alphas, validation_values, label=\"Validation\")\n",
    "plt.scatter([best_alpha], [best_value], label=\"Selected alpha\")\n",
    "plt.xscale(\"log\")\n",
    "plt.legend(loc=\"best\")\n",
    "plt.show()"
   ]
  },
  {
   "cell_type": "markdown",
   "metadata": {
    "colab_type": "text",
    "id": "jm9fAF9FDAVO"
   },
   "source": [
    "**Bonus exercise.** Implement a scikit-learn compatible estimator class (with fit and predict methods). Compare that you obtain the same results as `sklearn.linear_model.Ridge(fit_intercept=False)`."
   ]
  },
  {
   "cell_type": "code",
   "execution_count": 4,
   "metadata": {
    "colab": {
     "base_uri": "https://localhost:8080/",
     "height": 85
    },
    "colab_type": "code",
    "id": "oRYP-c94qTrz",
    "outputId": "4b599acd-4b0c-4f01-915f-867365460bef"
   },
   "outputs": [
    {
     "name": "stdout",
     "output_type": "stream",
     "text": [
      "[29.02919442 24.23132079 22.01189693 23.33453274 27.38233833 18.17573078\n",
      " 19.96559054 22.42317482 18.90765316 27.76476332]\n",
      "[29.02919442 24.23132079 22.01189693 23.33453274 27.38233833 18.17573078\n",
      " 19.96559054 22.42317482 18.90765316 27.76476332]\n"
     ]
    }
   ],
   "source": [
    "from sklearn.base import BaseEstimator, RegressorMixin\n",
    "\n",
    "class MyRidge(BaseEstimator, RegressorMixin):\n",
    "  def __init__(self, alpha=1.0):\n",
    "    self.alpha = alpha\n",
    "\n",
    "  def fit(self, X, y):\n",
    "    self.w_ = ridge_regression_solution(X, y, alpha=self.alpha)\n",
    "    return self\n",
    "\n",
    "  def predict(self, X):\n",
    "    return np.dot(X, self.w_)\n",
    "\n",
    "from sklearn.linear_model import Ridge\n",
    "\n",
    "print(MyRidge().fit(X_boston_tr, y_boston_tr).predict(X_boston_te)[:10])\n",
    "print(Ridge(fit_intercept=False).fit(X_boston_tr, y_boston_tr).predict(X_boston_te)[:10])"
   ]
  },
  {
   "cell_type": "markdown",
   "metadata": {
    "colab_type": "text",
    "id": "8URXWS49Dhmc"
   },
   "source": [
    "## Logistic regression"
   ]
  },
  {
   "cell_type": "code",
   "execution_count": 5,
   "metadata": {
    "colab": {},
    "colab_type": "code",
    "id": "E6rPbJE6EPbZ"
   },
   "outputs": [],
   "source": [
    "from sklearn.datasets import load_iris\n",
    "\n",
    "X_iris, y_iris = load_iris(return_X_y=True)\n",
    "# Keep only two classes for this exercise.\n",
    "X_iris = X_iris[y_iris <= 1]\n",
    "y_iris = y_iris[y_iris <= 1]"
   ]
  },
  {
   "cell_type": "markdown",
   "metadata": {
    "colab_type": "text",
    "id": "APsoy2dQHceV"
   },
   "source": [
    "**Exercise 1.** Make a function that computes \n",
    "$$\n",
    "\\text{softplus}(u) = \\log(1 + e^u)\n",
    "$$\n",
    "and notice that its derivative is\n",
    "$$\n",
    "(\\text{softplus}(u))' = \\frac{e^u}{1 + e^u} = \\frac{1}{1 + e^{-u}} = \\text{sigmoid}(u).\n",
    "$$\n",
    "Using the finite difference formula $f'(u) \\approx \\frac{f(u + \\epsilon) - f(u)}{\\epsilon}$ where epsilon is small value (e.g. 10^-6), check that the derivative of softplus is indeed the sigmoid."
   ]
  },
  {
   "cell_type": "code",
   "execution_count": 6,
   "metadata": {
    "colab": {
     "base_uri": "https://localhost:8080/",
     "height": 68
    },
    "colab_type": "code",
    "id": "MQGEYam4IYSc",
    "outputId": "c0ed22cc-e55a-4a9c-ac3b-dbce3f267aa6"
   },
   "outputs": [
    {
     "name": "stdout",
     "output_type": "stream",
     "text": [
      "3.048587351573742\n",
      "0.9525741493376927\n",
      "0.9525741268224334\n"
     ]
    }
   ],
   "source": [
    "import numpy as np\n",
    "from scipy.special import expit as sigmoid\n",
    "\n",
    "def finite_difference(function, u, *args, eps=1e-6):\n",
    "  return (function(u + eps, *args) - function(u, *args)) / (eps)\n",
    "\n",
    "def softplus(u):\n",
    "  return np.log(1 + np.exp(u))\n",
    "\n",
    "print(softplus(3))\n",
    "print(finite_difference(softplus, 3))\n",
    "print(sigmoid(3))"
   ]
  },
  {
   "cell_type": "markdown",
   "metadata": {
    "colab_type": "text",
    "id": "230EfSR_Elw0"
   },
   "source": [
    "**Exercise 2.** \n",
    "Make a function that computes the likelihood\n",
    "$$\n",
    "\\text{likelihood}(u_i, y_i) = y_i \\log \\text{sigmoid}(u_i) + (1-y_i) \\log (1-\\text{sigmoid}(u_i))\n",
    "$$\n",
    "where $u_i = \\mathbf{w}^\\top \\mathbf{x}_i$.\n",
    "Using\n",
    "$$\n",
    "\\log \\text{sigmoid}(u) = -\\text{softplus}(-u)\n",
    "$$\n",
    "and\n",
    "$$\n",
    "\\log(1 - \\text{sigmoid}(u)) = -\\text{softplus}(u)\n",
    "$$\n",
    "make a function that computes the derivative of $\\text{likelihood}(u_i, y_i)$ with respect to $u_i$. Check the result by finite difference. Be careful of signs!"
   ]
  },
  {
   "cell_type": "code",
   "execution_count": 7,
   "metadata": {
    "colab": {
     "base_uri": "https://localhost:8080/",
     "height": 51
    },
    "colab_type": "code",
    "id": "Yj7jUsRhS7BO",
    "outputId": "338a77ce-7378-4044-ace9-5fbe087353ae"
   },
   "outputs": [
    {
     "name": "stdout",
     "output_type": "stream",
     "text": [
      "0.04742587317756678\n",
      "0.04742585039269054\n"
     ]
    }
   ],
   "source": [
    "def likelihood(u_i, y_i):\n",
    "  return y_i * np.log(sigmoid(u_i)) + (1 - y_i) * np.log(1 - sigmoid(u_i))\n",
    "\n",
    "def likelihood_derivative(u_i, y_i):\n",
    "  return y_i * sigmoid(-u_i) + (1 - y_i) * -sigmoid(u_i)\n",
    "\n",
    "print(likelihood_derivative(3, 1))\n",
    "print(finite_difference(likelihood, 3, 1))"
   ]
  },
  {
   "cell_type": "markdown",
   "metadata": {
    "colab_type": "text",
    "id": "3BS3nztaQ9q6"
   },
   "source": [
    "**Exercise 3.** Write a function that implements the penalized objective function\n",
    "$$\n",
    "L(\\mathbf{w})\n",
    "= -\\sum_{i=1}^n y_i \\log \\text{sigmoid}(\\mathbf{w}^\\top \\mathbf{x}_i) + (1-y_i) \\log (1-\\text{sigmoid}(\\mathbf{w}^\\top \\mathbf{x}_i)) + \\frac{\\alpha}{2} \\|\\mathbf{w}\\|^2\n",
    "$$\n",
    "and another function that computes its gradient. Reuse `likelihood(u_i, y_i)` and `likelihood_derivative(u_i, y_i)` (you can use a for loop). Check that the gradient is correct using finite differences."
   ]
  },
  {
   "cell_type": "code",
   "execution_count": 20,
   "metadata": {
    "colab": {
     "base_uri": "https://localhost:8080/",
     "height": 51
    },
    "colab_type": "code",
    "id": "zvH8ea1RHbY7",
    "outputId": "ff631ed9-23ab-43f6-bb82-b60de33674bd"
   },
   "outputs": [
    {
     "name": "stdout",
     "output_type": "stream",
     "text": [
      "[-142.88202689  -37.26651948 -158.66001315  -54.93459954]\n",
      "[-142.88181001  -37.26643249 -158.65996826  -54.93459597]\n"
     ]
    }
   ],
   "source": [
    "def objective_value(w, X, y, alpha):\n",
    "  n_samples = len(X)\n",
    "  value = 0\n",
    "  for i in range(n_samples):\n",
    "    value -= likelihood(np.dot(X[i], w), y[i])\n",
    "  value += 0.5 * alpha * np.sum(w ** 2)\n",
    "  return value\n",
    "\n",
    "def objective_gradient(w, X, y, alpha):\n",
    "  n_samples = len(X)\n",
    "  gradient = np.zeros_like(w)\n",
    "  for i in range(n_samples):\n",
    "    gradient -= likelihood_derivative(np.dot(X[i], w), y[i]) * X[i]\n",
    "  gradient += alpha * w\n",
    "  return gradient\n",
    "\n",
    "def finite_difference_gradient(func, w, *args, eps=1e-6):\n",
    "  gradient = np.zeros_like(w)\n",
    "  for j in range(len(w)):\n",
    "    e_j = np.zeros(len(w))\n",
    "    e_j[j] = 1\n",
    "    gradient[j] = (func(w + eps * e_j, *args) - func(w, *args)) / eps\n",
    "  return gradient\n",
    "\n",
    "n_samples, n_features = X_iris.shape\n",
    "w = np.random.randn(n_features)\n",
    "alpha = 0.1\n",
    "print(objective_gradient(w, X_iris, y_iris, alpha))\n",
    "print(finite_difference_gradient(objective_value, w, X_iris, y_iris, alpha))"
   ]
  },
  {
   "cell_type": "markdown",
   "metadata": {
    "colab_type": "text",
    "id": "YcG3xB4uc3Q0"
   },
   "source": [
    "**Exercise 4.** Implement gradient descent. Check that the objective value is decreasing. Plot the objective value as a function of the number of iterations."
   ]
  },
  {
   "cell_type": "code",
   "execution_count": 21,
   "metadata": {
    "colab": {
     "base_uri": "https://localhost:8080/",
     "height": 265
    },
    "colab_type": "code",
    "id": "OgYmz3W5dBes",
    "outputId": "26945858-463f-469c-ea4b-05784a86b1d6"
   },
   "outputs": [
    {
     "data": {
      "image/png": "[encoded data removed]",
      "text/plain": [
       "<Figure size 432x288 with 1 Axes>"
      ]
     },
     "metadata": {
      "needs_background": "light"
     },
     "output_type": "display_data"
    }
   ],
   "source": [
    "def gradient_descent(value_function, gradient_function, w_init, *args, \n",
    "                     step_size=1e-4, num_iterations=1000):\n",
    "  \n",
    "  values = []\n",
    "  w = w_init\n",
    "  for i in range(num_iterations):\n",
    "    w = w - step_size * gradient_function(w, *args)\n",
    "    values.append(value_function(w, *args))\n",
    "  return values\n",
    "\n",
    "n_samples, n_features = X_iris.shape\n",
    "w_init = np.random.randn(n_features)\n",
    "values = gradient_descent(objective_value, objective_gradient, w, X_iris, y_iris, alpha)\n",
    "\n",
    "import matplotlib.pyplot as plt\n",
    "plt.figure()\n",
    "plt.plot(np.arange(len(values)), values)\n",
    "plt.show()"
   ]
  },
  {
   "cell_type": "markdown",
   "metadata": {
    "colab_type": "text",
    "id": "vKshmyVEf5At"
   },
   "source": [
    "**Exercise 5.** Rewrite `objective_value` and `objective_gradient` without for loop. Check the correctness of your implementation against the version with a for loop."
   ]
  },
  {
   "cell_type": "code",
   "execution_count": 10,
   "metadata": {
    "colab": {
     "base_uri": "https://localhost:8080/",
     "height": 85
    },
    "colab_type": "code",
    "id": "GtIL0DQLgnh9",
    "outputId": "bb151811-910f-46e2-bedb-3031499b5e73"
   },
   "outputs": [
    {
     "name": "stdout",
     "output_type": "stream",
     "text": [
      "227.17353142760155\n",
      "227.1735314276014\n",
      "[ 15.44465851  60.88469386 -89.58442042 -37.48309804]\n",
      "[ 15.44465851  60.88469386 -89.58442042 -37.48309804]\n"
     ]
    }
   ],
   "source": [
    "def objective_value_no_loop(w, X, y, alpha):\n",
    "  y_pred = np.dot(X, w)\n",
    "  likelihoods = y * np.log(sigmoid(y_pred)) + (1 - y) * np.log(1 - sigmoid(y_pred))\n",
    "  value = -likelihoods.sum() \n",
    "  value += 0.5 * alpha * np.sum(w ** 2)\n",
    "  return value\n",
    "\n",
    "def objective_gradient_no_loop(w, X, y, alpha):\n",
    "  y_pred = np.dot(X, w)\n",
    "  likelihood_deriv = y * sigmoid(-y_pred) + (1 - y) * -sigmoid(y_pred)\n",
    "  gradient = -np.dot(X.T, likelihood_deriv)\n",
    "  gradient += alpha * w\n",
    "  return gradient\n",
    "\n",
    "n_samples, n_features = X_iris.shape\n",
    "w = np.random.randn(n_features)\n",
    "alpha = 0.1\n",
    "print(objective_value(w, X_iris, y_iris, alpha))\n",
    "print(objective_value_no_loop(w, X_iris, y_iris, alpha))\n",
    "print(objective_gradient(w, X_iris, y_iris, alpha))\n",
    "print(objective_gradient_no_loop(w, X_iris, y_iris, alpha))"
   ]
  },
  {
   "cell_type": "markdown",
   "metadata": {
    "colab_type": "text",
    "id": "0gdsqbPEiroi"
   },
   "source": [
    "Time the two implementations."
   ]
  },
  {
   "cell_type": "code",
   "execution_count": 11,
   "metadata": {
    "colab": {
     "base_uri": "https://localhost:8080/",
     "height": 68
    },
    "colab_type": "code",
    "id": "rqHQJjA8iv05",
    "outputId": "86b9b4f3-2166-4415-f414-21c2b2f7ba28"
   },
   "outputs": [
    {
     "name": "stdout",
     "output_type": "stream",
     "text": [
      "CPU times: user 2.24 ms, sys: 108 µs, total: 2.35 ms\n",
      "Wall time: 1.75 ms\n"
     ]
    },
    {
     "data": {
      "text/plain": [
       "227.17353142760155"
      ]
     },
     "execution_count": 11,
     "metadata": {},
     "output_type": "execute_result"
    }
   ],
   "source": [
    "%time objective_value(w, X_iris, y_iris, alpha)"
   ]
  },
  {
   "cell_type": "code",
   "execution_count": 12,
   "metadata": {
    "colab": {
     "base_uri": "https://localhost:8080/",
     "height": 68
    },
    "colab_type": "code",
    "id": "BIWzhYOyi0df",
    "outputId": "14ae543a-d12c-4ed7-de02-615dd658f9cc"
   },
   "outputs": [
    {
     "name": "stdout",
     "output_type": "stream",
     "text": [
      "CPU times: user 256 µs, sys: 12 µs, total: 268 µs\n",
      "Wall time: 230 µs\n"
     ]
    },
    {
     "data": {
      "text/plain": [
       "227.1735314276014"
      ]
     },
     "execution_count": 12,
     "metadata": {},
     "output_type": "execute_result"
    }
   ],
   "source": [
    "%time objective_value_no_loop(w, X_iris, y_iris, alpha)"
   ]
  },
  {
   "cell_type": "markdown",
   "metadata": {
    "colab_type": "text",
    "id": "ZFWxXpj_riZp"
   },
   "source": [
    "# Lecture 2"
   ]
  },
  {
   "cell_type": "markdown",
   "metadata": {},
   "source": [
    "# Stochastic gradient descent"
   ]
  },
  {
   "cell_type": "markdown",
   "metadata": {},
   "source": [
    "We will focus on the Boston dataset and ridge regression. We will start by scaling the dataset"
   ]
  },
  {
   "cell_type": "code",
   "execution_count": 13,
   "metadata": {},
   "outputs": [],
   "source": [
    "from sklearn.preprocessing import StandardScaler\n",
    "\n",
    "X = StandardScaler().fit_transform(X_boston)\n",
    "y = y_boston - y_boston.mean()\n",
    "y /= np.std(y_boston)"
   ]
  },
  {
   "cell_type": "markdown",
   "metadata": {},
   "source": [
    "**Exercise 6.** Write a function that computes the stochastic gradient of Ridge regression. Check that the mean of the stochastic gradients gives the gradient."
   ]
  },
  {
   "cell_type": "code",
   "execution_count": 14,
   "metadata": {},
   "outputs": [
    {
     "name": "stdout",
     "output_type": "stream",
     "text": [
      "[ 0.58890263 -1.3431632   1.02958269 -1.09440625  2.18600178 -5.03962171\n",
      "  1.14297979 -1.71896595 -1.35106566 -0.7850983  -2.8444402   1.02387385\n",
      "  3.74368222]\n",
      "[ 0.58890263 -1.3431632   1.02958269 -1.09440625  2.18600178 -5.03962171\n",
      "  1.14297979 -1.71896595 -1.35106566 -0.7850983  -2.8444402   1.02387385\n",
      "  3.74368222]\n"
     ]
    }
   ],
   "source": [
    "def ridge_objective(w, X, y, alpha):\n",
    "    residual = y - np.dot(X, w)\n",
    "    n_samples, n_features = X.shape\n",
    "    return np.sum(residual ** 2) / n_samples + alpha * np.dot(w, w) / 2\n",
    "\n",
    "\n",
    "def ridge_gradient(w, X, y, alpha):\n",
    "    n_samples, n_features = X.shape\n",
    "    return 2 * (np.dot(X, w) - y).dot(X) / n_samples + alpha * w\n",
    "\n",
    "\n",
    "def stochastic_gradient(w, i, X, y, alpha):\n",
    "  n_samples = len(X)\n",
    "  gradient = np.zeros_like(w)\n",
    "  gradient = 2 * (np.dot(X[i], w) - y[i]) * X[i]\n",
    "  gradient += alpha * w\n",
    "  return gradient\n",
    "\n",
    "\n",
    "n_samples, n_features = X_boston.shape\n",
    "w = np.random.randn(n_features)\n",
    "alpha = 0.1\n",
    "print(np.mean([stochastic_gradient(w, i, X, y, alpha) for i in range(n_samples)], axis=0))\n",
    "print(ridge_gradient(w, X, y, alpha))"
   ]
  },
  {
   "cell_type": "markdown",
   "metadata": {},
   "source": [
    "**Exercise 7.** Write a function that implements stochastic gradient descent. Implement two rules for sampling the index: cyclic, and at random. Compare the convergence of both algorithms. What is the role of the step size?\n",
    "\n",
    "You should especially look at the convergence speed and the value at which the algorithm plateaus."
   ]
  },
  {
   "cell_type": "code",
   "execution_count": 15,
   "metadata": {},
   "outputs": [
    {
     "data": {
      "image/png": "[encoded data removed]",
      "text/plain": [
       "<Figure size 432x288 with 1 Axes>"
      ]
     },
     "metadata": {
      "needs_background": "light"
     },
     "output_type": "display_data"
    },
    {
     "name": "stdout",
     "output_type": "stream",
     "text": [
      "0.28753979757345216\n",
      "0.29000237503216564\n",
      "0.3597622588699763\n"
     ]
    },
    {
     "data": {
      "image/png": "[encoded data removed]",
      "text/plain": [
       "<Figure size 432x288 with 1 Axes>"
      ]
     },
     "metadata": {
      "needs_background": "light"
     },
     "output_type": "display_data"
    }
   ],
   "source": [
    "def stochastic_gradient_descent(value_function, gradient_function, w_init, idx_list, *args,\n",
    "                                step_size=1e-4, num_iterations=1000):\n",
    "  \n",
    "  values = []\n",
    "  w = w_init\n",
    "  for i in range(num_iterations):\n",
    "    idx = idx_list[i]\n",
    "    w = w - step_size * gradient_function(w, idx, *args)\n",
    "    values.append(value_function(w, *args))\n",
    "  return values\n",
    "\n",
    "\n",
    "w_init = np.random.randn(n_features)\n",
    "num_iterations = 20000\n",
    "step_size = 1e-2\n",
    "idx_cyclic = np.arange(num_iterations) % n_samples\n",
    "values_cyclic = stochastic_gradient_descent(ridge_objective,\n",
    "                                            stochastic_gradient,\n",
    "                                            w, idx_cyclic, X,\n",
    "                                            y, alpha, step_size=step_size,\n",
    "                                            num_iterations=num_iterations)\n",
    "idx_random = np.random.randint(0, n_samples, num_iterations)\n",
    "values_random = stochastic_gradient_descent(ridge_objective,\n",
    "                                            stochastic_gradient,\n",
    "                                            w, idx_random, X,\n",
    "                                            y, alpha, step_size=step_size,\n",
    "                                            num_iterations=num_iterations)\n",
    "plt.figure()\n",
    "plt.plot(np.arange(len(values_cyclic)), values_cyclic, label='Cyclic')\n",
    "plt.plot(np.arange(len(values_random)), values_random, label='Random')\n",
    "plt.legend()\n",
    "plt.yscale('log')\n",
    "plt.show()\n",
    "\n",
    "plt.figure()\n",
    "\n",
    "for step_size in [5e-4, 1e-3, 1e-2]:\n",
    "    values = stochastic_gradient_descent(ridge_objective,\n",
    "                                         stochastic_gradient,\n",
    "                                         w, idx_random, X,\n",
    "                                         y, alpha, step_size=step_size,\n",
    "                                         num_iterations=num_iterations)\n",
    "    plt.plot(values, label='%.e' % step_size)\n",
    "    print(np.mean(values[-100:]))\n",
    "plt.legend()\n",
    "plt.yscale('log')\n",
    "plt.show()\n",
    "    \n"
   ]
  },
  {
   "cell_type": "markdown",
   "metadata": {},
   "source": [
    "# L-BFGS"
   ]
  },
  {
   "cell_type": "markdown",
   "metadata": {},
   "source": [
    "L-BFGS is the go-to second order method. It is already implemented in `scipy`:"
   ]
  },
  {
   "cell_type": "code",
   "execution_count": 17,
   "metadata": {},
   "outputs": [],
   "source": [
    "from scipy.optimize import fmin_l_bfgs_b"
   ]
  },
  {
   "cell_type": "markdown",
   "metadata": {},
   "source": [
    "**Exercise 8.** Use the L-BFGS code to optimize the logistic regression on the Iris dataset. Compare it with your gradient descent.\n",
    "\n",
    "Hint: in order to store the function values, you can use the callback function in `fmin_l_bfgs_b`. Don't forget to read the documentation !"
   ]
  },
  {
   "cell_type": "code",
   "execution_count": null,
   "metadata": {},
   "outputs": [],
   "source": [
    "class callback(object):\n",
    "    def __init__(self):\n",
    "        self.values = []\n",
    "    \n",
    "    def __call__(self, w):\n",
    "        self.values.append(objective_value_no_loop(w, X_iris, y_iris, alpha))\n",
    "    \n",
    "\n",
    "n_samples, n_features = X_iris.shape\n",
    "w_init = np.random.randn(n_features)\n",
    "values = gradient_descent(objective_value, objective_gradient, w_init, X_iris, y_iris, alpha)\n",
    "\n",
    "cb = callback()\n",
    "_ = fmin_l_bfgs_b(objective_value, w_init, objective_gradient, args=(X_iris, y_iris, alpha), callback=cb)\n",
    "plt.figure()\n",
    "plt.plot(np.arange(len(values)), values)\n",
    "plt.show()\n"
   ]
  },
  {
   "cell_type": "code",
   "execution_count": null,
   "metadata": {},
   "outputs": [],
   "source": []
  }
 ],
 "metadata": {
  "colab": {
   "name": "Optimization lab work (corrected)",
   "provenance": []
  },
  "kernelspec": {
   "display_name": "Python 3",
   "language": "python",
   "name": "python3"
  },
  "language_info": {
   "codemirror_mode": {
    "name": "ipython",
    "version": 3
   },
   "file_extension": ".py",
   "mimetype": "text/x-python",
   "name": "python",
   "nbconvert_exporter": "python",
   "pygments_lexer": "ipython3",
   "version": "3.7.7"
  }
 },
 "nbformat": 4,
 "nbformat_minor": 1
}
