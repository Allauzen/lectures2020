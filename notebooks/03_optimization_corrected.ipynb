{
  "nbformat": 4,
  "nbformat_minor": 0,
  "metadata": {
    "colab": {
      "name": "Optimization lab work (corrected)",
      "provenance": []
    },
    "kernelspec": {
      "name": "python3",
      "display_name": "Python 3"
    }
  },
  "cells": [
    {
      "cell_type": "markdown",
      "metadata": {
        "id": "fez2KEiqT0PO",
        "colab_type": "text"
      },
      "source": [
        "Notebook prepared by Mathieu Blondel (lecture 1) and Pierre Ablin (lecture 2)."
      ]
    },
    {
      "cell_type": "markdown",
      "metadata": {
        "id": "VP2BK_aX_I2-",
        "colab_type": "text"
      },
      "source": [
        "# Lecture 1"
      ]
    },
    {
      "cell_type": "markdown",
      "metadata": {
        "id": "UuAYuQ95reai",
        "colab_type": "text"
      },
      "source": [
        "## Ridge regression"
      ]
    },
    {
      "cell_type": "code",
      "metadata": {
        "id": "3SYMuhGT_1Ok",
        "colab_type": "code",
        "colab": {}
      },
      "source": [
        "from sklearn.datasets import load_boston\n",
        "from sklearn.model_selection import train_test_split\n",
        "\n",
        "# Load the Boston housing dataset.\n",
        "X_boston, y_boston = load_boston(return_X_y=True)\n",
        "\n",
        "# Split into 60% training, 20% validation and 20% test.\n",
        "X_boston_tr, X_rest, y_boston_tr, y_rest = \\\n",
        "  train_test_split(X_boston, y_boston, test_size=0.4, random_state=0)\n",
        "X_boston_val, X_boston_te, y_boston_val, y_boston_te = \\\n",
        "  train_test_split(X_rest, y_rest, test_size=0.5, random_state=0)"
      ],
      "execution_count": 59,
      "outputs": []
    },
    {
      "cell_type": "markdown",
      "metadata": {
        "id": "PtoOJ8agAd95",
        "colab_type": "text"
      },
      "source": [
        "**Exercise 1.** Implement the analytical solution of ridge regression $(X^\\top X + \\alpha I) w = X^\\top y$ (see [slides](https://data-psl.github.io/lectures2020/slides/05_optimization_linear_models)) using [scipy.linalg.solve](https://docs.scipy.org/doc/scipy/reference/generated/scipy.linalg.solve.html). Compute the solution on the training data. Make sure that the gradient at the solution is zero (up to machine precision)."
      ]
    },
    {
      "cell_type": "code",
      "metadata": {
        "id": "heG7kuDXB3Md",
        "colab_type": "code",
        "colab": {
          "base_uri": "https://localhost:8080/",
          "height": 34
        },
        "outputId": "311e1858-5e1e-4fdf-acb8-26c908fb1852"
      },
      "source": [
        "from scipy.linalg import solve\n",
        "\n",
        "def ridge_regression_solution(X, y, alpha):\n",
        "  n_samples, n_features = X.shape\n",
        "  XX = np.dot(X.T, X)\n",
        "  Xy = np.dot(X.T, y)\n",
        "  I = np.eye(n_features)\n",
        "  w_star = solve(XX + alpha * I, Xy)\n",
        "  return w_star\n",
        "\n",
        "def ridge_regression_gradient(w, X, y, alpha):\n",
        "  XX = np.dot(X.T, X)\n",
        "  Xy = np.dot(X.T, y)\n",
        "  return np.dot(XX, w) - Xy + alpha * w\n",
        "\n",
        "w_star = ridge_regression_solution(X_boston_tr, y_boston_tr, alpha=0.1)\n",
        "\n",
        "gradient = ridge_regression_gradient(w_star, X_boston_tr, y_boston_tr, alpha=0.1)\n",
        "np.sqrt(np.sum(gradient ** 2))"
      ],
      "execution_count": 60,
      "outputs": [
        {
          "output_type": "execute_result",
          "data": {
            "text/plain": [
              "2.433424641569131e-09"
            ]
          },
          "metadata": {
            "tags": []
          },
          "execution_count": 60
        }
      ]
    },
    {
      "cell_type": "markdown",
      "metadata": {
        "id": "a4wef-U2CGVX",
        "colab_type": "text"
      },
      "source": [
        "**Exercise 2.** Train the models for several possible values of alpha (see below). Plot the mean squared error on the test set as a function of alpha. Use the validation data to find the best alpha and display it on the graph using a circle."
      ]
    },
    {
      "cell_type": "code",
      "metadata": {
        "id": "aWDX9MAfC_5I",
        "colab_type": "code",
        "colab": {
          "base_uri": "https://localhost:8080/",
          "height": 269
        },
        "outputId": "fc5271ef-cf04-40a0-efa7-acf94f9c3133"
      },
      "source": [
        "alphas = np.logspace(-3, 3, 20)\n",
        "\n",
        "validation_values = []\n",
        "test_values = []\n",
        "\n",
        "for alpha in alphas:\n",
        "  w_star = ridge_regression_solution(X_boston_tr, y_boston_tr, alpha)\n",
        "  \n",
        "  y_pred_val = np.dot(X_boston_val, w_star)\n",
        "  y_pred_te = np.dot(X_boston_te, w_star)\n",
        "\n",
        "  mse_val = np.mean((y_boston_val - y_pred_val) ** 2)\n",
        "  mse_te = np.mean((y_boston_te - y_pred_te) ** 2)\n",
        "\n",
        "  validation_values.append(mse_val)\n",
        "  test_values.append(mse_te)\n",
        "\n",
        "best_alpha_index = np.argmin(validation_values)\n",
        "best_alpha = alphas[best_alpha_index]\n",
        "best_value = test_values[best_alpha_index]\n",
        "\n",
        "import matplotlib.pyplot as plt\n",
        "plt.figure()\n",
        "plt.plot(alphas, test_values, label=\"Test\")\n",
        "plt.scatter([best_alpha], [best_value], label=\"Selected alpha\")\n",
        "plt.xscale(\"log\")\n",
        "plt.legend(loc=\"best\")\n",
        "plt.show()"
      ],
      "execution_count": 61,
      "outputs": [
        {
          "output_type": "display_data",
          "data": {
            "image/png": "[encoded data removed]",
            "text/plain": [
              "<Figure size 432x288 with 1 Axes>"
            ]
          },
          "metadata": {
            "tags": [],
            "needs_background": "light"
          }
        }
      ]
    },
    {
      "cell_type": "markdown",
      "metadata": {
        "id": "jm9fAF9FDAVO",
        "colab_type": "text"
      },
      "source": [
        "**Bonus exercise.** Implement a scikit-learn compatible estimator class (with fit and predict methods). Compare that you obtain the same results as `sklearn.linear_model.Ridge(fit_intercept=False)`."
      ]
    },
    {
      "cell_type": "code",
      "metadata": {
        "id": "oRYP-c94qTrz",
        "colab_type": "code",
        "colab": {
          "base_uri": "https://localhost:8080/",
          "height": 85
        },
        "outputId": "4b599acd-4b0c-4f01-915f-867365460bef"
      },
      "source": [
        "from sklearn.base import BaseEstimator, RegressorMixin\n",
        "\n",
        "class MyRidge(BaseEstimator, RegressorMixin):\n",
        "  def __init__(self, alpha=1.0):\n",
        "    self.alpha = alpha\n",
        "\n",
        "  def fit(self, X, y):\n",
        "    self.w_ = ridge_regression_solution(X, y, alpha=self.alpha)\n",
        "    return self\n",
        "\n",
        "  def predict(self, X):\n",
        "    return np.dot(X, self.w_)\n",
        "\n",
        "from sklearn.linear_model import Ridge\n",
        "\n",
        "print(MyRidge().fit(X_boston_tr, y_boston_tr).predict(X_boston_te)[:10])\n",
        "print(Ridge(fit_intercept=False).fit(X_boston_tr, y_boston_tr).predict(X_boston_te)[:10])"
      ],
      "execution_count": 62,
      "outputs": [
        {
          "output_type": "stream",
          "text": [
            "[29.02919442 24.23132079 22.01189693 23.33453274 27.38233833 18.17573078\n",
            " 19.96559054 22.42317482 18.90765316 27.76476332]\n",
            "[29.02919442 24.23132079 22.01189693 23.33453274 27.38233833 18.17573078\n",
            " 19.96559054 22.42317482 18.90765316 27.76476332]\n"
          ],
          "name": "stdout"
        }
      ]
    },
    {
      "cell_type": "markdown",
      "metadata": {
        "id": "8URXWS49Dhmc",
        "colab_type": "text"
      },
      "source": [
        "## Logistic regression"
      ]
    },
    {
      "cell_type": "code",
      "metadata": {
        "id": "E6rPbJE6EPbZ",
        "colab_type": "code",
        "colab": {}
      },
      "source": [
        "from sklearn.datasets import load_iris\n",
        "\n",
        "X_iris, y_iris = load_iris(return_X_y=True)\n",
        "# Keep only two classes for this exercise.\n",
        "X_iris = X_iris[y_iris <= 1]\n",
        "y_iris = y_iris[y_iris <= 1]"
      ],
      "execution_count": 63,
      "outputs": []
    },
    {
      "cell_type": "markdown",
      "metadata": {
        "id": "APsoy2dQHceV",
        "colab_type": "text"
      },
      "source": [
        "**Exercise 1.** Make a function that computes \n",
        "$$\n",
        "\\text{softplus}(u) = \\log(1 + e^u)\n",
        "$$\n",
        "and notice that its derivative is\n",
        "$$\n",
        "(\\text{softplus}(u))' = \\frac{e^u}{1 + e^u} = \\frac{1}{1 + e^{-u}} = \\text{sigmoid}(u).\n",
        "$$\n",
        "Using the finite difference formula $f'(u) \\approx \\frac{f(u + \\epsilon) - f(u)}{\\epsilon}$ where epsilon is small value (e.g. 10^-6), check that the derivative of softplus is indeed the sigmoid."
      ]
    },
    {
      "cell_type": "code",
      "metadata": {
        "id": "MQGEYam4IYSc",
        "colab_type": "code",
        "colab": {
          "base_uri": "https://localhost:8080/",
          "height": 68
        },
        "outputId": "c0ed22cc-e55a-4a9c-ac3b-dbce3f267aa6"
      },
      "source": [
        "import numpy as np\n",
        "from scipy.special import expit as sigmoid\n",
        "\n",
        "def finite_difference(function, u, *args, eps=1e-6):\n",
        "  return (function(u + eps, *args) - function(u, *args)) / (eps)\n",
        "\n",
        "def softplus(u):\n",
        "  return np.log(1 + np.exp(u))\n",
        "\n",
        "print(softplus(3))\n",
        "print(finite_difference(softplus, 3))\n",
        "print(sigmoid(3))"
      ],
      "execution_count": 8,
      "outputs": [
        {
          "output_type": "stream",
          "text": [
            "3.048587351573742\n",
            "0.9525741493376927\n",
            "0.9525741268224334\n"
          ],
          "name": "stdout"
        }
      ]
    },
    {
      "cell_type": "markdown",
      "metadata": {
        "id": "230EfSR_Elw0",
        "colab_type": "text"
      },
      "source": [
        "**Exercise 2.** \n",
        "Make a function that computes the likelihood\n",
        "$$\n",
        "\\text{likelihood}(u_i, y_i) = y_i \\log \\text{sigmoid}(u_i) + (1-y_i) \\log (1-\\text{sigmoid}(u_i))\n",
        "$$\n",
        "where $u_i = \\mathbf{w}^\\top \\mathbf{x}_i$.\n",
        "Using\n",
        "$$\n",
        "\\log \\text{sigmoid}(u) = -\\text{softplus}(-u)\n",
        "$$\n",
        "and\n",
        "$$\n",
        "\\log(1 - \\text{sigmoid}(u)) = -\\text{softplus}(u)\n",
        "$$\n",
        "make a function that computes the derivative of $\\text{likelihood}(u_i, y_i)$ with respect to $u_i$. Check the result by finite difference. Be careful of signs!"
      ]
    },
    {
      "cell_type": "code",
      "metadata": {
        "id": "Yj7jUsRhS7BO",
        "colab_type": "code",
        "colab": {
          "base_uri": "https://localhost:8080/",
          "height": 51
        },
        "outputId": "338a77ce-7378-4044-ace9-5fbe087353ae"
      },
      "source": [
        "def likelihood(u_i, y_i):\n",
        "  return y_i * np.log(sigmoid(u_i)) + (1 - y_i) * np.log(1 - sigmoid(u_i))\n",
        "\n",
        "def likelihood_derivative(u_i, y_i):\n",
        "  return y_i * sigmoid(-u_i) + (1 - y_i) * -sigmoid(u_i)\n",
        "\n",
        "print(likelihood_derivative(3, 1))\n",
        "print(finite_difference(likelihood, 3, 1))"
      ],
      "execution_count": 64,
      "outputs": [
        {
          "output_type": "stream",
          "text": [
            "0.04742587317756678\n",
            "0.04742585039269054\n"
          ],
          "name": "stdout"
        }
      ]
    },
    {
      "cell_type": "markdown",
      "metadata": {
        "id": "3BS3nztaQ9q6",
        "colab_type": "text"
      },
      "source": [
        "**Exercise 3.** Write a function that implements the penalized objective function\n",
        "$$\n",
        "L(\\mathbf{w})\n",
        "= -\\sum_{i=1}^n y_i \\log \\text{sigmoid}(\\mathbf{w}^\\top \\mathbf{x}_i) + (1-y_i) \\log (1-\\text{sigmoid}(\\mathbf{w}^\\top \\mathbf{x}_i)) + \\frac{\\alpha}{2} \\|\\mathbf{w}\\|^2\n",
        "$$\n",
        "and another function that computes its gradient. Reuse `likelihood(u_i, y_i)` and `likelihood_derivative(u_i, y_i)` (you can use a for loop). Check that the gradient is correct using finite differences."
      ]
    },
    {
      "cell_type": "code",
      "metadata": {
        "id": "zvH8ea1RHbY7",
        "colab_type": "code",
        "colab": {
          "base_uri": "https://localhost:8080/",
          "height": 51
        },
        "outputId": "ff631ed9-23ab-43f6-bb82-b60de33674bd"
      },
      "source": [
        "def objective_value(w, X, y, alpha):\n",
        "  n_samples = len(X)\n",
        "  value = 0\n",
        "  for i in range(n_samples):\n",
        "    value -= likelihood(np.dot(X[i], w), y[i])\n",
        "  value += 0.5 * alpha * np.sum(w ** 2)\n",
        "  return value\n",
        "\n",
        "def objective_gradient(w, X, y, alpha):\n",
        "  n_samples = len(X)\n",
        "  gradient = np.zeros_like(w)\n",
        "  for i in range(n_samples):\n",
        "    gradient -= likelihood_derivative(np.dot(X[i], w), y[i]) * X[i]\n",
        "  gradient += alpha * w\n",
        "  return gradient\n",
        "\n",
        "def finite_difference_gradient(func, w, *args, eps=1e-6):\n",
        "  gradient = np.zeros_like(w)\n",
        "  for j in range(len(w)):\n",
        "    e_j = np.zeros(len(w))\n",
        "    e_j[j] = 1\n",
        "    gradient[j] = (func(w + eps * e_j, *args) - func(w, *args)) / eps\n",
        "  return gradient\n",
        "\n",
        "n_samples, n_features = X_iris.shape\n",
        "w = np.random.randn(n_features)\n",
        "alpha = 0.1\n",
        "print(objective_gradient(w, X_iris, y_iris, alpha))\n",
        "print(finite_difference_gradient(objective_value, w, X_iris, y_iris, alpha))"
      ],
      "execution_count": 65,
      "outputs": [
        {
          "output_type": "stream",
          "text": [
            "[-292.78248238 -135.95023525 -212.01220223  -66.23941611]\n",
            "[-292.78247274 -135.95023097 -212.01220153  -66.23941607]\n"
          ],
          "name": "stdout"
        }
      ]
    },
    {
      "cell_type": "markdown",
      "metadata": {
        "id": "YcG3xB4uc3Q0",
        "colab_type": "text"
      },
      "source": [
        "**Exercise 4.** Implement gradient descent. Check that the objective value is decreasing. Plot the objective value as a function of the number of iterations."
      ]
    },
    {
      "cell_type": "code",
      "metadata": {
        "id": "OgYmz3W5dBes",
        "colab_type": "code",
        "colab": {
          "base_uri": "https://localhost:8080/",
          "height": 265
        },
        "outputId": "26945858-463f-469c-ea4b-05784a86b1d6"
      },
      "source": [
        "def gradient_descent(value_function, gradient_function, w_init, *args, \n",
        "                     step_size=1e-4, num_iterations=1000):\n",
        "  \n",
        "  values = []\n",
        "  w = w_init\n",
        "  for i in range(num_iterations):\n",
        "    w = w - step_size * gradient_function(w, *args)\n",
        "    values.append(value_function(w, *args))\n",
        "  return values\n",
        "\n",
        "n_samples, n_features = X_iris.shape\n",
        "w_init = np.random.randn(n_features)\n",
        "values = gradient_descent(objective_value, objective_gradient, w, X_iris, y_iris, alpha)\n",
        "\n",
        "import matplotlib.pyplot as plt\n",
        "plt.figure()\n",
        "plt.plot(np.arange(len(values)), values)\n",
        "plt.show()"
      ],
      "execution_count": 66,
      "outputs": [
        {
          "output_type": "display_data",
          "data": {
            "image/png": "[encoded data removed]",
            "text/plain": [
              "<Figure size 432x288 with 1 Axes>"
            ]
          },
          "metadata": {
            "tags": [],
            "needs_background": "light"
          }
        }
      ]
    },
    {
      "cell_type": "markdown",
      "metadata": {
        "id": "vKshmyVEf5At",
        "colab_type": "text"
      },
      "source": [
        "**Exercise 5.** Rewrite `objective_value` and `objective_gradient` without for loop. Check the correctness of your implementation against the version with a for loop."
      ]
    },
    {
      "cell_type": "code",
      "metadata": {
        "id": "GtIL0DQLgnh9",
        "colab_type": "code",
        "colab": {
          "base_uri": "https://localhost:8080/",
          "height": 85
        },
        "outputId": "bb151811-910f-46e2-bedb-3031499b5e73"
      },
      "source": [
        "def objective_value_no_loop(w, X, y, alpha):\n",
        "  y_pred = np.dot(X, w)\n",
        "  likelihoods = y * np.log(sigmoid(y_pred)) + (1 - y) * np.log(1 - sigmoid(y_pred))\n",
        "  value = -likelihoods.sum() \n",
        "  value += 0.5 * alpha * np.sum(w ** 2)\n",
        "  return value\n",
        "\n",
        "def objective_gradient_no_loop(w, X, y, alpha):\n",
        "  y_pred = np.dot(X, w)\n",
        "  likelihood_deriv = y * sigmoid(-y_pred) + (1 - y) * -sigmoid(y_pred)\n",
        "  gradient = -np.dot(X.T, likelihood_deriv)\n",
        "  gradient += alpha * w\n",
        "  return gradient\n",
        "\n",
        "n_samples, n_features = X_iris.shape\n",
        "w = np.random.randn(n_features)\n",
        "alpha = 0.1\n",
        "print(objective_value(w, X_iris, y_iris, alpha))\n",
        "print(objective_value_no_loop(w, X_iris, y_iris, alpha))\n",
        "print(objective_gradient(w, X_iris, y_iris, alpha))\n",
        "print(objective_gradient_no_loop(w, X_iris, y_iris, alpha))"
      ],
      "execution_count": 30,
      "outputs": [
        {
          "output_type": "stream",
          "text": [
            "444.3888780317242\n",
            "444.3888780317241\n",
            "[-296.70576159 -138.50144738 -213.00467038  -66.18670616]\n",
            "[-296.70576159 -138.50144738 -213.00467038  -66.18670616]\n"
          ],
          "name": "stdout"
        }
      ]
    },
    {
      "cell_type": "markdown",
      "metadata": {
        "id": "0gdsqbPEiroi",
        "colab_type": "text"
      },
      "source": [
        "Time the two implementations."
      ]
    },
    {
      "cell_type": "code",
      "metadata": {
        "id": "rqHQJjA8iv05",
        "colab_type": "code",
        "colab": {
          "base_uri": "https://localhost:8080/",
          "height": 68
        },
        "outputId": "86b9b4f3-2166-4415-f414-21c2b2f7ba28"
      },
      "source": [
        "%time objective_value(w, X_iris, y_iris, alpha)"
      ],
      "execution_count": 31,
      "outputs": [
        {
          "output_type": "stream",
          "text": [
            "CPU times: user 3.81 ms, sys: 1 ms, total: 4.81 ms\n",
            "Wall time: 3.77 ms\n"
          ],
          "name": "stdout"
        },
        {
          "output_type": "execute_result",
          "data": {
            "text/plain": [
              "444.3888780317242"
            ]
          },
          "metadata": {
            "tags": []
          },
          "execution_count": 31
        }
      ]
    },
    {
      "cell_type": "code",
      "metadata": {
        "id": "BIWzhYOyi0df",
        "colab_type": "code",
        "colab": {
          "base_uri": "https://localhost:8080/",
          "height": 68
        },
        "outputId": "14ae543a-d12c-4ed7-de02-615dd658f9cc"
      },
      "source": [
        "%time objective_value_no_loop(w, X_iris, y_iris, alpha)"
      ],
      "execution_count": 32,
      "outputs": [
        {
          "output_type": "stream",
          "text": [
            "CPU times: user 289 µs, sys: 0 ns, total: 289 µs\n",
            "Wall time: 275 µs\n"
          ],
          "name": "stdout"
        },
        {
          "output_type": "execute_result",
          "data": {
            "text/plain": [
              "444.3888780317241"
            ]
          },
          "metadata": {
            "tags": []
          },
          "execution_count": 32
        }
      ]
    },
    {
      "cell_type": "markdown",
      "metadata": {
        "id": "ZFWxXpj_riZp",
        "colab_type": "text"
      },
      "source": [
        "# Lecture 2"
      ]
    }
  ]
}
