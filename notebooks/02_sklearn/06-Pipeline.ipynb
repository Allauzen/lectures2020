{
 "cells": [
  {
   "cell_type": "code",
   "execution_count": 1,
   "metadata": {
    "pycharm": {
     "name": "#%%\n"
    }
   },
   "outputs": [
    {
     "name": "stdout",
     "output_type": "stream",
     "text": [
      "fatal: destination path 'lectures2020' already exists and is not an empty directory.\n",
      "/home/amensch/work/teaching/dauphine/lectures2020/notebooks/02_sklearn/lectures2020/notebooks/02_sklearn\n"
     ]
    }
   ],
   "source": [
    "! git clone https://github.com/data-psl/lectures2020\n",
    "import sys\n",
    "sys.path.append('lectures2020/notebooks/02_sklearn')\n",
    "%cd 'lectures2020/notebooks/02_sklearn'"
   ]
  },
  {
   "cell_type": "markdown",
   "metadata": {
    "pycharm": {
     "name": "#%% md\n"
    }
   },
   "source": [
    "In this notebook we define a Pipeline estimator that first apply a `PCA` and then classify the reduced representation using a `LogisticRegression`.\n",
    "\n",
    "We will use the `Pipeline` object and the `GridSearchCV` object, as well as a little `pandas` in the end"
   ]
  },
  {
   "cell_type": "code",
   "execution_count": 2,
   "metadata": {
    "collapsed": false,
    "jupyter": {
     "outputs_hidden": false
    },
    "pycharm": {
     "name": "#%%\n"
    }
   },
   "outputs": [],
   "source": [
    "import numpy as np\n",
    "import matplotlib.pyplot as plt\n",
    "import pandas as pd\n",
    "\n",
    "from sklearn import datasets\n",
    "from sklearn.decomposition import PCA\n",
    "from sklearn.linear_model import LogisticRegression\n",
    "from sklearn.pipeline import Pipeline\n",
    "from sklearn.model_selection import GridSearchCV"
   ]
  },
  {
   "cell_type": "markdown",
   "metadata": {
    "pycharm": {
     "name": "#%% md\n"
    }
   },
   "source": [
    "Now that you have all useful objects in hand, define a pipeline that first apply a PCA transform and then apply a LogisticRegression.\n",
    "You may look at `Pipeline` documentation of scikit-learn"
   ]
  },
  {
   "cell_type": "code",
   "execution_count": 13,
   "metadata": {
    "collapsed": false,
    "jupyter": {
     "outputs_hidden": false
    },
    "pycharm": {
     "name": "#%%\n"
    }
   },
   "outputs": [
    {
     "ename": "ValueError",
     "evalue": "'solutions/06-Pipeline-1.py' was not found in history, as a file, url, nor in the user namespace.",
     "output_type": "error",
     "traceback": [
      "\u001B[0;31m---------------------------------------------------------------------------\u001B[0m",
      "\u001B[0;31mSyntaxError\u001B[0m                               Traceback (most recent call last)",
      "\u001B[0;32m/opt/anaconda3/lib/python3.7/site-packages/IPython/core/interactiveshell.py\u001B[0m in \u001B[0;36mfind_user_code\u001B[0;34m(self, target, raw, py_only, skip_encoding_cookie, search_ns)\u001B[0m\n\u001B[1;32m   3649\u001B[0m         \u001B[0;32mtry\u001B[0m\u001B[0;34m:\u001B[0m                                              \u001B[0;31m# User namespace\u001B[0m\u001B[0;34m\u001B[0m\u001B[0;34m\u001B[0m\u001B[0m\n\u001B[0;32m-> 3650\u001B[0;31m             \u001B[0mcodeobj\u001B[0m \u001B[0;34m=\u001B[0m \u001B[0meval\u001B[0m\u001B[0;34m(\u001B[0m\u001B[0mtarget\u001B[0m\u001B[0;34m,\u001B[0m \u001B[0mself\u001B[0m\u001B[0;34m.\u001B[0m\u001B[0muser_ns\u001B[0m\u001B[0;34m)\u001B[0m\u001B[0;34m\u001B[0m\u001B[0;34m\u001B[0m\u001B[0m\n\u001B[0m\u001B[1;32m   3651\u001B[0m         \u001B[0;32mexcept\u001B[0m \u001B[0mException\u001B[0m\u001B[0;34m:\u001B[0m\u001B[0;34m\u001B[0m\u001B[0;34m\u001B[0m\u001B[0m\n",
      "\u001B[0;31mSyntaxError\u001B[0m: invalid token (<string>, line 1)",
      "\nDuring handling of the above exception, another exception occurred:\n",
      "\u001B[0;31mValueError\u001B[0m                                Traceback (most recent call last)",
      "\u001B[0;32m<ipython-input-13-9d0b3e52b05d>\u001B[0m in \u001B[0;36m<module>\u001B[0;34m\u001B[0m\n\u001B[0;32m----> 1\u001B[0;31m \u001B[0mget_ipython\u001B[0m\u001B[0;34m(\u001B[0m\u001B[0;34m)\u001B[0m\u001B[0;34m.\u001B[0m\u001B[0mrun_line_magic\u001B[0m\u001B[0;34m(\u001B[0m\u001B[0;34m'load'\u001B[0m\u001B[0;34m,\u001B[0m \u001B[0;34m'\"solutions/06-Pipeline-1.py\"'\u001B[0m\u001B[0;34m)\u001B[0m\u001B[0;34m\u001B[0m\u001B[0;34m\u001B[0m\u001B[0m\n\u001B[0m",
      "\u001B[0;32m/opt/anaconda3/lib/python3.7/site-packages/IPython/core/interactiveshell.py\u001B[0m in \u001B[0;36mrun_line_magic\u001B[0;34m(self, magic_name, line, _stack_depth)\u001B[0m\n\u001B[1;32m   2315\u001B[0m                 \u001B[0mkwargs\u001B[0m\u001B[0;34m[\u001B[0m\u001B[0;34m'local_ns'\u001B[0m\u001B[0;34m]\u001B[0m \u001B[0;34m=\u001B[0m \u001B[0msys\u001B[0m\u001B[0;34m.\u001B[0m\u001B[0m_getframe\u001B[0m\u001B[0;34m(\u001B[0m\u001B[0mstack_depth\u001B[0m\u001B[0;34m)\u001B[0m\u001B[0;34m.\u001B[0m\u001B[0mf_locals\u001B[0m\u001B[0;34m\u001B[0m\u001B[0;34m\u001B[0m\u001B[0m\n\u001B[1;32m   2316\u001B[0m             \u001B[0;32mwith\u001B[0m \u001B[0mself\u001B[0m\u001B[0;34m.\u001B[0m\u001B[0mbuiltin_trap\u001B[0m\u001B[0;34m:\u001B[0m\u001B[0;34m\u001B[0m\u001B[0;34m\u001B[0m\u001B[0m\n\u001B[0;32m-> 2317\u001B[0;31m                 \u001B[0mresult\u001B[0m \u001B[0;34m=\u001B[0m \u001B[0mfn\u001B[0m\u001B[0;34m(\u001B[0m\u001B[0;34m*\u001B[0m\u001B[0margs\u001B[0m\u001B[0;34m,\u001B[0m \u001B[0;34m**\u001B[0m\u001B[0mkwargs\u001B[0m\u001B[0;34m)\u001B[0m\u001B[0;34m\u001B[0m\u001B[0;34m\u001B[0m\u001B[0m\n\u001B[0m\u001B[1;32m   2318\u001B[0m             \u001B[0;32mreturn\u001B[0m \u001B[0mresult\u001B[0m\u001B[0;34m\u001B[0m\u001B[0;34m\u001B[0m\u001B[0m\n\u001B[1;32m   2319\u001B[0m \u001B[0;34m\u001B[0m\u001B[0m\n",
      "\u001B[0;32m<decorator-gen-46>\u001B[0m in \u001B[0;36mload\u001B[0;34m(self, arg_s)\u001B[0m\n",
      "\u001B[0;32m/opt/anaconda3/lib/python3.7/site-packages/IPython/core/magic.py\u001B[0m in \u001B[0;36m<lambda>\u001B[0;34m(f, *a, **k)\u001B[0m\n\u001B[1;32m    185\u001B[0m     \u001B[0;31m# but it's overkill for just that one bit of state.\u001B[0m\u001B[0;34m\u001B[0m\u001B[0;34m\u001B[0m\u001B[0;34m\u001B[0m\u001B[0m\n\u001B[1;32m    186\u001B[0m     \u001B[0;32mdef\u001B[0m \u001B[0mmagic_deco\u001B[0m\u001B[0;34m(\u001B[0m\u001B[0marg\u001B[0m\u001B[0;34m)\u001B[0m\u001B[0;34m:\u001B[0m\u001B[0;34m\u001B[0m\u001B[0;34m\u001B[0m\u001B[0m\n\u001B[0;32m--> 187\u001B[0;31m         \u001B[0mcall\u001B[0m \u001B[0;34m=\u001B[0m \u001B[0;32mlambda\u001B[0m \u001B[0mf\u001B[0m\u001B[0;34m,\u001B[0m \u001B[0;34m*\u001B[0m\u001B[0ma\u001B[0m\u001B[0;34m,\u001B[0m \u001B[0;34m**\u001B[0m\u001B[0mk\u001B[0m\u001B[0;34m:\u001B[0m \u001B[0mf\u001B[0m\u001B[0;34m(\u001B[0m\u001B[0;34m*\u001B[0m\u001B[0ma\u001B[0m\u001B[0;34m,\u001B[0m \u001B[0;34m**\u001B[0m\u001B[0mk\u001B[0m\u001B[0;34m)\u001B[0m\u001B[0;34m\u001B[0m\u001B[0;34m\u001B[0m\u001B[0m\n\u001B[0m\u001B[1;32m    188\u001B[0m \u001B[0;34m\u001B[0m\u001B[0m\n\u001B[1;32m    189\u001B[0m         \u001B[0;32mif\u001B[0m \u001B[0mcallable\u001B[0m\u001B[0;34m(\u001B[0m\u001B[0marg\u001B[0m\u001B[0;34m)\u001B[0m\u001B[0;34m:\u001B[0m\u001B[0;34m\u001B[0m\u001B[0;34m\u001B[0m\u001B[0m\n",
      "\u001B[0;32m/opt/anaconda3/lib/python3.7/site-packages/IPython/core/magics/code.py\u001B[0m in \u001B[0;36mload\u001B[0;34m(self, arg_s)\u001B[0m\n\u001B[1;32m    331\u001B[0m         \u001B[0msearch_ns\u001B[0m \u001B[0;34m=\u001B[0m \u001B[0;34m'n'\u001B[0m \u001B[0;32min\u001B[0m \u001B[0mopts\u001B[0m\u001B[0;34m\u001B[0m\u001B[0;34m\u001B[0m\u001B[0m\n\u001B[1;32m    332\u001B[0m \u001B[0;34m\u001B[0m\u001B[0m\n\u001B[0;32m--> 333\u001B[0;31m         \u001B[0mcontents\u001B[0m \u001B[0;34m=\u001B[0m \u001B[0mself\u001B[0m\u001B[0;34m.\u001B[0m\u001B[0mshell\u001B[0m\u001B[0;34m.\u001B[0m\u001B[0mfind_user_code\u001B[0m\u001B[0;34m(\u001B[0m\u001B[0margs\u001B[0m\u001B[0;34m,\u001B[0m \u001B[0msearch_ns\u001B[0m\u001B[0;34m=\u001B[0m\u001B[0msearch_ns\u001B[0m\u001B[0;34m)\u001B[0m\u001B[0;34m\u001B[0m\u001B[0;34m\u001B[0m\u001B[0m\n\u001B[0m\u001B[1;32m    334\u001B[0m \u001B[0;34m\u001B[0m\u001B[0m\n\u001B[1;32m    335\u001B[0m         \u001B[0;32mif\u001B[0m \u001B[0;34m's'\u001B[0m \u001B[0;32min\u001B[0m \u001B[0mopts\u001B[0m\u001B[0;34m:\u001B[0m\u001B[0;34m\u001B[0m\u001B[0;34m\u001B[0m\u001B[0m\n",
      "\u001B[0;32m/opt/anaconda3/lib/python3.7/site-packages/IPython/core/interactiveshell.py\u001B[0m in \u001B[0;36mfind_user_code\u001B[0;34m(self, target, raw, py_only, skip_encoding_cookie, search_ns)\u001B[0m\n\u001B[1;32m   3651\u001B[0m         \u001B[0;32mexcept\u001B[0m \u001B[0mException\u001B[0m\u001B[0;34m:\u001B[0m\u001B[0;34m\u001B[0m\u001B[0;34m\u001B[0m\u001B[0m\n\u001B[1;32m   3652\u001B[0m             raise ValueError((\"'%s' was not found in history, as a file, url, \"\n\u001B[0;32m-> 3653\u001B[0;31m                                 \"nor in the user namespace.\") % target)\n\u001B[0m\u001B[1;32m   3654\u001B[0m \u001B[0;34m\u001B[0m\u001B[0m\n\u001B[1;32m   3655\u001B[0m         \u001B[0;32mif\u001B[0m \u001B[0misinstance\u001B[0m\u001B[0;34m(\u001B[0m\u001B[0mcodeobj\u001B[0m\u001B[0;34m,\u001B[0m \u001B[0mstr\u001B[0m\u001B[0;34m)\u001B[0m\u001B[0;34m:\u001B[0m\u001B[0;34m\u001B[0m\u001B[0;34m\u001B[0m\u001B[0m\n",
      "\u001B[0;31mValueError\u001B[0m: 'solutions/06-Pipeline-1.py' was not found in history, as a file, url, nor in the user namespace."
     ]
    }
   ],
   "source": [
    "# %load \"solutions/06-Pipeline-1.py\""
   ]
  },
  {
   "cell_type": "markdown",
   "metadata": {},
   "source": [
    "The elements of the Pipeline are named and accessed using `estimator.get_params()`, and may be modified using `estimator.set_params()`"
   ]
  },
  {
   "cell_type": "code",
   "execution_count": 4,
   "metadata": {},
   "outputs": [
    {
     "data": {
      "text/plain": [
       "{'memory': None,\n",
       " 'steps': [('pca',\n",
       "   PCA(copy=True, iterated_power='auto', n_components=None, random_state=None,\n",
       "       svd_solver='auto', tol=0.0, whiten=False)),\n",
       "  ('logistic',\n",
       "   LogisticRegression(C=1.0, class_weight=None, dual=False, fit_intercept=True,\n",
       "                      intercept_scaling=1, l1_ratio=None, max_iter=10000,\n",
       "                      multi_class='auto', n_jobs=None, penalty='l2',\n",
       "                      random_state=None, solver='lbfgs', tol=0.1, verbose=0,\n",
       "                      warm_start=False))],\n",
       " 'verbose': False,\n",
       " 'pca': PCA(copy=True, iterated_power='auto', n_components=None, random_state=None,\n",
       "     svd_solver='auto', tol=0.0, whiten=False),\n",
       " 'logistic': LogisticRegression(C=1.0, class_weight=None, dual=False, fit_intercept=True,\n",
       "                    intercept_scaling=1, l1_ratio=None, max_iter=10000,\n",
       "                    multi_class='auto', n_jobs=None, penalty='l2',\n",
       "                    random_state=None, solver='lbfgs', tol=0.1, verbose=0,\n",
       "                    warm_start=False),\n",
       " 'pca__copy': True,\n",
       " 'pca__iterated_power': 'auto',\n",
       " 'pca__n_components': None,\n",
       " 'pca__random_state': None,\n",
       " 'pca__svd_solver': 'auto',\n",
       " 'pca__tol': 0.0,\n",
       " 'pca__whiten': False,\n",
       " 'logistic__C': 1.0,\n",
       " 'logistic__class_weight': None,\n",
       " 'logistic__dual': False,\n",
       " 'logistic__fit_intercept': True,\n",
       " 'logistic__intercept_scaling': 1,\n",
       " 'logistic__l1_ratio': None,\n",
       " 'logistic__max_iter': 10000,\n",
       " 'logistic__multi_class': 'auto',\n",
       " 'logistic__n_jobs': None,\n",
       " 'logistic__penalty': 'l2',\n",
       " 'logistic__random_state': None,\n",
       " 'logistic__solver': 'lbfgs',\n",
       " 'logistic__tol': 0.1,\n",
       " 'logistic__verbose': 0,\n",
       " 'logistic__warm_start': False}"
      ]
     },
     "execution_count": 4,
     "metadata": {},
     "output_type": "execute_result"
    }
   ],
   "source": [
    "pipe.get_params()"
   ]
  },
  {
   "cell_type": "code",
   "execution_count": null,
   "outputs": [],
   "source": [
    "pipe.set_params(pca__n_components=10)"
   ],
   "metadata": {
    "collapsed": false,
    "pycharm": {
     "name": "#%%\n"
    }
   }
  },
  {
   "cell_type": "markdown",
   "source": [
    "## Performing a grid-search on multiple parameters\n",
    "\n",
    "We want to test what reduction we should use in the `PCA`, along with what regularization in the `LogisticRegression`\n",
    "\n",
    "How do we do that ? We use a `GridSearchCV` with multiple parameters"
   ],
   "metadata": {
    "collapsed": false
   }
  },
  {
   "cell_type": "code",
   "execution_count": null,
   "outputs": [],
   "source": [
    "X_digits, y_digits = datasets.load_digits(return_X_y=True)\n",
    "\n",
    "# Parameters of pipelines can be set using ‘__’ separated parameter names:\n",
    "param_grid = {\n",
    "    'pca__n_components': [5, 15, 30, 45, 64],\n",
    "    'logistic__C': np.logspace(-4, 4, 4),\n",
    "}\n",
    "search = GridSearchCV(pipe, param_grid, n_jobs=-1)"
   ],
   "metadata": {
    "collapsed": false,
    "pycharm": {
     "name": "#%%\n"
    }
   }
  },
  {
   "cell_type": "code",
   "execution_count": null,
   "outputs": [],
   "source": [
    "search"
   ],
   "metadata": {
    "collapsed": false,
    "pycharm": {
     "name": "#%%\n"
    }
   }
  },
  {
   "cell_type": "code",
   "execution_count": null,
   "outputs": [],
   "source": [
    "search.fit(X_digits, y_digits)\n",
    "print(\"Best parameter (CV score=%0.3f):\" % search.best_score_)\n",
    "print(search.best_params_)\n",
    "\n",
    "# Plot the PCA spectrum\n",
    "pca.fit(X_digits)"
   ],
   "metadata": {
    "collapsed": false,
    "pycharm": {
     "name": "#%%\n"
    }
   }
  },
  {
   "cell_type": "markdown",
   "source": [
    "Let's see how how the explained signal vary with the PCA size\n"
   ],
   "metadata": {
    "collapsed": false
   }
  },
  {
   "cell_type": "code",
   "execution_count": null,
   "outputs": [],
   "source": [
    "fig, ax0 = plt.subplots(nrows=1, figsize=(6, 6))\n",
    "\n",
    "\n",
    "ax0.plot(np.arange(1, pca.n_components_ + 1),\n",
    "         pca.explained_variance_ratio_, '+', linewidth=4)\n",
    "ax0.set_ylabel('PCA explained variance ratio')\n",
    "\n",
    "ax0.axvline(search.best_estimator_.named_steps['pca'].n_components,\n",
    "            linestyle=':', label='n_components chosen')\n",
    "ax0.legend(prop=dict(size=12), loc='upper center')\n",
    "\n",
    "ax0.set_xlabel('n_components')\n"
   ],
   "metadata": {
    "collapsed": false,
    "pycharm": {
     "name": "#%%\n"
    }
   }
  },
  {
   "cell_type": "markdown",
   "source": [
    "### Exploring grid-search"
   ],
   "metadata": {
    "collapsed": false
   }
  },
  {
   "cell_type": "markdown",
   "source": [
    "To explore the grid search results, we may transform the attribute `cv_results_` in a DataFrame.\n",
    "\n",
    "**Question**: how many results should appear ?"
   ],
   "metadata": {
    "collapsed": false
   }
  },
  {
   "cell_type": "code",
   "execution_count": null,
   "outputs": [],
   "source": [
    "search.cv_results_"
   ],
   "metadata": {
    "collapsed": false,
    "pycharm": {
     "name": "#%%\n"
    }
   }
  },
  {
   "cell_type": "code",
   "execution_count": null,
   "outputs": [],
   "source": [
    "results = pd.DataFrame(search.cv_results_)\n",
    "results"
   ],
   "metadata": {
    "collapsed": false,
    "pycharm": {
     "name": "#%%\n"
    }
   }
  },
  {
   "cell_type": "markdown",
   "source": [
    "Let's index these results by the hyper-parameters"
   ],
   "metadata": {
    "collapsed": false
   }
  },
  {
   "cell_type": "code",
   "execution_count": null,
   "outputs": [],
   "source": [
    "results = results.set_index(['param_pca__n_components','param_logistic__C']).sort_index()\n",
    "results"
   ],
   "metadata": {
    "collapsed": false,
    "pycharm": {
     "name": "#%%\n"
    }
   }
  },
  {
   "cell_type": "code",
   "execution_count": null,
   "outputs": [],
   "source": [
    "# Take the best C for each `n_components`\n",
    "best_clfs = results.reset_index().groupby('param_pca__n_components').apply(\n",
    "    lambda g: g.nlargest(1, 'mean_test_score'))"
   ],
   "metadata": {
    "collapsed": false,
    "pycharm": {
     "name": "#%%\n"
    }
   }
  },
  {
   "cell_type": "code",
   "execution_count": null,
   "outputs": [],
   "source": [
    "best_clfs"
   ],
   "metadata": {
    "collapsed": false,
    "pycharm": {
     "name": "#%%\n"
    }
   }
  },
  {
   "cell_type": "code",
   "execution_count": null,
   "outputs": [],
   "source": [
    "fig, ax1 = plt.subplots(nrows=1, figsize=(6, 6))\n",
    "\n",
    "best_clfs.plot(x='param_pca__n_components', y='mean_test_score', yerr='std_test_score',\n",
    "               legend=False, ax=ax1)\n",
    "ax1.set_ylabel('Classification accuracy (val)')\n",
    "ax1.set_xlabel('n_components')\n",
    "\n",
    "plt.xlim(-1, 70)\n",
    "\n",
    "plt.tight_layout()\n",
    "plt.show()"
   ],
   "metadata": {
    "collapsed": false,
    "pycharm": {
     "name": "#%%\n"
    }
   }
  },
  {
   "cell_type": "code",
   "execution_count": null,
   "outputs": [],
   "source": [],
   "metadata": {
    "collapsed": false,
    "pycharm": {
     "name": "#%%\n"
    }
   }
  },
  {
   "cell_type": "code",
   "execution_count": 5,
   "metadata": {},
   "outputs": [
    {
     "data": {
      "text/plain": [
       "Pipeline(memory=None,\n",
       "         steps=[('pca',\n",
       "                 PCA(copy=True, iterated_power='auto', n_components=10,\n",
       "                     random_state=None, svd_solver='auto', tol=0.0,\n",
       "                     whiten=False)),\n",
       "                ('logistic',\n",
       "                 LogisticRegression(C=1.0, class_weight=None, dual=False,\n",
       "                                    fit_intercept=True, intercept_scaling=1,\n",
       "                                    l1_ratio=None, max_iter=10000,\n",
       "                                    multi_class='auto', n_jobs=None,\n",
       "                                    penalty='l2', random_state=None,\n",
       "                                    solver='lbfgs', tol=0.1, verbose=0,\n",
       "                                    warm_start=False))],\n",
       "         verbose=False)"
      ]
     },
     "execution_count": 5,
     "metadata": {},
     "output_type": "execute_result"
    }
   ],
   "source": []
  },
  {
   "cell_type": "markdown",
   "metadata": {},
   "source": [
    "## Performing a grid-search on multiple parameters\n",
    "\n",
    "We want to test what reduction we should use in the `PCA`, along with what regularization in the `LogisticRegression`\n",
    "\n",
    "How do we do that ? We use a `GridSearchCV` with multiple parameters"
   ]
  },
  {
   "cell_type": "code",
   "execution_count": 6,
   "metadata": {},
   "outputs": [],
   "source": [
    "X_digits, y_digits = datasets.load_digits(return_X_y=True)\n",
    "\n",
    "# Parameters of pipelines can be set using ‘__’ separated parameter names:\n",
    "param_grid = {\n",
    "    'pca__n_components': [5, 15, 30, 45, 64],\n",
    "    'logistic__C': np.logspace(-4, 4, 4),\n",
    "}\n",
    "search = GridSearchCV(pipe, param_grid, n_jobs=-1)"
   ]
  },
  {
   "cell_type": "code",
   "execution_count": 7,
   "metadata": {},
   "outputs": [
    {
     "data": {
      "text/plain": [
       "GridSearchCV(cv=None, error_score=nan,\n",
       "             estimator=Pipeline(memory=None,\n",
       "                                steps=[('pca',\n",
       "                                        PCA(copy=True, iterated_power='auto',\n",
       "                                            n_components=10, random_state=None,\n",
       "                                            svd_solver='auto', tol=0.0,\n",
       "                                            whiten=False)),\n",
       "                                       ('logistic',\n",
       "                                        LogisticRegression(C=1.0,\n",
       "                                                           class_weight=None,\n",
       "                                                           dual=False,\n",
       "                                                           fit_intercept=True,\n",
       "                                                           intercept_scaling=1,\n",
       "                                                           l1_ratio=None,\n",
       "                                                           max_iter=10000,\n",
       "                                                           multi_class='auto',\n",
       "                                                           n_jobs=None,\n",
       "                                                           penalty='l2',\n",
       "                                                           random_state=None,\n",
       "                                                           solver='lbfgs',\n",
       "                                                           tol=0.1, verbose=0,\n",
       "                                                           warm_start=False))],\n",
       "                                verbose=False),\n",
       "             iid='deprecated', n_jobs=-1,\n",
       "             param_grid={'logistic__C': array([1.00000000e-04, 4.64158883e-02, 2.15443469e+01, 1.00000000e+04]),\n",
       "                         'pca__n_components': [5, 15, 30, 45, 64]},\n",
       "             pre_dispatch='2*n_jobs', refit=True, return_train_score=False,\n",
       "             scoring=None, verbose=0)"
      ]
     },
     "execution_count": 7,
     "metadata": {},
     "output_type": "execute_result"
    }
   ],
   "source": [
    "search"
   ]
  },
  {
   "cell_type": "code",
   "execution_count": 8,
   "metadata": {},
   "outputs": [
    {
     "name": "stdout",
     "output_type": "stream",
     "text": [
      "Best parameter (CV score=0.920):\n",
      "{'logistic__C': 0.046415888336127774, 'pca__n_components': 45}\n"
     ]
    },
    {
     "data": {
      "text/plain": [
       "PCA(copy=True, iterated_power='auto', n_components=10, random_state=None,\n",
       "    svd_solver='auto', tol=0.0, whiten=False)"
      ]
     },
     "execution_count": 8,
     "metadata": {},
     "output_type": "execute_result"
    }
   ],
   "source": [
    "search.fit(X_digits, y_digits)\n",
    "print(\"Best parameter (CV score=%0.3f):\" % search.best_score_)\n",
    "print(search.best_params_)\n",
    "\n",
    "# Plot the PCA spectrum\n",
    "pca.fit(X_digits)"
   ]
  },
  {
   "cell_type": "markdown",
   "metadata": {
    "pycharm": {
     "name": "#%% md\n"
    }
   },
   "source": [
    "Let's see how how the explained signal vary with the PCA size\n"
   ]
  },
  {
   "cell_type": "code",
   "execution_count": 9,
   "metadata": {
    "collapsed": false,
    "jupyter": {
     "outputs_hidden": false
    },
    "pycharm": {
     "name": "#%%\n"
    }
   },
   "outputs": [
    {
     "data": {
      "text/plain": [
       "Text(0.5, 0, 'n_components')"
      ]
     },
     "execution_count": 9,
     "metadata": {},
     "output_type": "execute_result"
    },
    {
     "data": {
      "image/png": "[encoded data removed]",
      "text/plain": [
       "<Figure size 432x432 with 1 Axes>"
      ]
     },
     "metadata": {
      "needs_background": "light"
     },
     "output_type": "display_data"
    }
   ],
   "source": [
    "fig, ax0 = plt.subplots(nrows=1, figsize=(6, 6))\n",
    "\n",
    "\n",
    "ax0.plot(np.arange(1, pca.n_components_ + 1),\n",
    "         pca.explained_variance_ratio_, '+', linewidth=4)\n",
    "ax0.set_ylabel('PCA explained variance ratio')\n",
    "\n",
    "ax0.axvline(search.best_estimator_.named_steps['pca'].n_components,\n",
    "            linestyle=':', label='n_components chosen')\n",
    "ax0.legend(prop=dict(size=12), loc='upper center')\n",
    "\n",
    "ax0.set_xlabel('n_components')\n"
   ]
  },
  {
   "cell_type": "markdown",
   "metadata": {},
   "source": [
    "### Exploring grid-search"
   ]
  },
  {
   "cell_type": "markdown",
   "metadata": {},
   "source": [
    "To explore the grid search results, we may transform the attribute `cv_results_` in a DataFrame.\n",
    "\n",
    "**Question**: how many results should appear ?"
   ]
  },
  {
   "cell_type": "code",
   "execution_count": 10,
   "metadata": {},
   "outputs": [
    {
     "data": {
      "text/plain": [
       "{'mean_fit_time': array([0.10226703, 0.09395771, 0.08851624, 0.11030211, 0.09651237,\n",
       "        0.50829949, 0.24711747, 0.20019112, 0.22005386, 0.22867527,\n",
       "        1.43818502, 1.53342023, 0.10179582, 0.08561602, 0.07442994,\n",
       "        0.9636703 , 1.31579556, 0.05186472, 0.05969257, 0.05058556]),\n",
       " 'std_fit_time': array([0.02025132, 0.02698769, 0.01124451, 0.0122175 , 0.01415143,\n",
       "        0.08881701, 0.02701491, 0.02042788, 0.03258908, 0.01465111,\n",
       "        0.3239303 , 0.44359254, 0.0181554 , 0.00885587, 0.00937938,\n",
       "        0.37390013, 0.21796197, 0.00173781, 0.00222358, 0.00313282]),\n",
       " 'mean_score_time': array([0.00107546, 0.00080905, 0.00107903, 0.00093193, 0.00101109,\n",
       "        0.00067649, 0.00072765, 0.00084491, 0.00093641, 0.00106506,\n",
       "        0.00079231, 0.00086322, 0.00077515, 0.00081072, 0.00098457,\n",
       "        0.00084991, 0.00051222, 0.00083699, 0.00083437, 0.00140448]),\n",
       " 'std_score_time': array([5.49682861e-04, 1.75189128e-04, 2.70898966e-04, 5.40455321e-05,\n",
       "        2.22362741e-04, 2.13005886e-05, 4.98040376e-05, 3.39601804e-05,\n",
       "        1.89404617e-05, 2.94202166e-04, 2.66220086e-04, 3.01139092e-04,\n",
       "        4.21833555e-05, 3.35486711e-05, 1.15650716e-04, 4.03313689e-04,\n",
       "        1.03951222e-04, 1.34763208e-04, 2.00915437e-05, 5.63611081e-04]),\n",
       " 'param_logistic__C': masked_array(data=[0.0001, 0.0001, 0.0001, 0.0001, 0.0001,\n",
       "                    0.046415888336127774, 0.046415888336127774,\n",
       "                    0.046415888336127774, 0.046415888336127774,\n",
       "                    0.046415888336127774, 21.54434690031882,\n",
       "                    21.54434690031882, 21.54434690031882,\n",
       "                    21.54434690031882, 21.54434690031882, 10000.0, 10000.0,\n",
       "                    10000.0, 10000.0, 10000.0],\n",
       "              mask=[False, False, False, False, False, False, False, False,\n",
       "                    False, False, False, False, False, False, False, False,\n",
       "                    False, False, False, False],\n",
       "        fill_value='?',\n",
       "             dtype=object),\n",
       " 'param_pca__n_components': masked_array(data=[5, 15, 30, 45, 64, 5, 15, 30, 45, 64, 5, 15, 30, 45,\n",
       "                    64, 5, 15, 30, 45, 64],\n",
       "              mask=[False, False, False, False, False, False, False, False,\n",
       "                    False, False, False, False, False, False, False, False,\n",
       "                    False, False, False, False],\n",
       "        fill_value='?',\n",
       "             dtype=object),\n",
       " 'params': [{'logistic__C': 0.0001, 'pca__n_components': 5},\n",
       "  {'logistic__C': 0.0001, 'pca__n_components': 15},\n",
       "  {'logistic__C': 0.0001, 'pca__n_components': 30},\n",
       "  {'logistic__C': 0.0001, 'pca__n_components': 45},\n",
       "  {'logistic__C': 0.0001, 'pca__n_components': 64},\n",
       "  {'logistic__C': 0.046415888336127774, 'pca__n_components': 5},\n",
       "  {'logistic__C': 0.046415888336127774, 'pca__n_components': 15},\n",
       "  {'logistic__C': 0.046415888336127774, 'pca__n_components': 30},\n",
       "  {'logistic__C': 0.046415888336127774, 'pca__n_components': 45},\n",
       "  {'logistic__C': 0.046415888336127774, 'pca__n_components': 64},\n",
       "  {'logistic__C': 21.54434690031882, 'pca__n_components': 5},\n",
       "  {'logistic__C': 21.54434690031882, 'pca__n_components': 15},\n",
       "  {'logistic__C': 21.54434690031882, 'pca__n_components': 30},\n",
       "  {'logistic__C': 21.54434690031882, 'pca__n_components': 45},\n",
       "  {'logistic__C': 21.54434690031882, 'pca__n_components': 64},\n",
       "  {'logistic__C': 10000.0, 'pca__n_components': 5},\n",
       "  {'logistic__C': 10000.0, 'pca__n_components': 15},\n",
       "  {'logistic__C': 10000.0, 'pca__n_components': 30},\n",
       "  {'logistic__C': 10000.0, 'pca__n_components': 45},\n",
       "  {'logistic__C': 10000.0, 'pca__n_components': 64}],\n",
       " 'split0_test_score': array([0.78055556, 0.89722222, 0.90555556, 0.90555556, 0.90555556,\n",
       "        0.83888889, 0.93055556, 0.92222222, 0.925     , 0.925     ,\n",
       "        0.84444444, 0.93611111, 0.91111111, 0.91666667, 0.91666667,\n",
       "        0.84166667, 0.93333333, 0.89444444, 0.89166667, 0.89722222]),\n",
       " 'split1_test_score': array([0.75833333, 0.85833333, 0.88055556, 0.87777778, 0.88055556,\n",
       "        0.75      , 0.85277778, 0.87222222, 0.875     , 0.875     ,\n",
       "        0.74722222, 0.85      , 0.85833333, 0.86666667, 0.875     ,\n",
       "        0.74444444, 0.83055556, 0.85277778, 0.84444444, 0.84444444]),\n",
       " 'split2_test_score': array([0.80222841, 0.89693593, 0.91086351, 0.90807799, 0.90807799,\n",
       "        0.84401114, 0.9275766 , 0.93314763, 0.94150418, 0.93871866,\n",
       "        0.84401114, 0.88857939, 0.91364903, 0.93314763, 0.93036212,\n",
       "        0.84401114, 0.88579387, 0.90250696, 0.91086351, 0.91364903]),\n",
       " 'split3_test_score': array([0.80501393, 0.93871866, 0.94428969, 0.94428969, 0.94428969,\n",
       "        0.86908078, 0.92479109, 0.96100279, 0.95543175, 0.95543175,\n",
       "        0.86350975, 0.91086351, 0.93593315, 0.93593315, 0.93871866,\n",
       "        0.86350975, 0.91086351, 0.93871866, 0.93871866, 0.93593315]),\n",
       " 'split4_test_score': array([0.74651811, 0.84958217, 0.85793872, 0.86350975, 0.86350975,\n",
       "        0.8189415 , 0.88857939, 0.89972145, 0.90250696, 0.90529248,\n",
       "        0.8189415 , 0.83286908, 0.88579387, 0.88857939, 0.8913649 ,\n",
       "        0.8189415 , 0.83286908, 0.86350975, 0.88579387, 0.88857939]),\n",
       " 'mean_test_score': array([0.77852987, 0.88815846, 0.89984061, 0.89984215, 0.90039771,\n",
       "        0.82418446, 0.90485608, 0.91766326, 0.91988858, 0.91988858,\n",
       "        0.82362581, 0.88368462, 0.9009641 , 0.9081987 , 0.91042247,\n",
       "        0.8225147 , 0.87868307, 0.89039152, 0.89429743, 0.89596565]),\n",
       " 'std_test_score': array([0.02323697, 0.03191613, 0.02918071, 0.02786731, 0.02744642,\n",
       "        0.04038767, 0.03017008, 0.03008541, 0.02854394, 0.02782821,\n",
       "        0.04074103, 0.03802121, 0.02658654, 0.02673269, 0.02389643,\n",
       "        0.04151439, 0.04120188, 0.03045044, 0.03102332, 0.03039958]),\n",
       " 'rank_test_score': array([20, 14, 10,  9,  8, 17,  6,  3,  1,  1, 18, 15,  7,  5,  4, 19, 16,\n",
       "        13, 12, 11], dtype=int32)}"
      ]
     },
     "execution_count": 10,
     "metadata": {},
     "output_type": "execute_result"
    }
   ],
   "source": [
    "search.cv_results_"
   ]
  },
  {
   "cell_type": "code",
   "execution_count": 11,
   "metadata": {
    "collapsed": false,
    "jupyter": {
     "outputs_hidden": false
    },
    "pycharm": {
     "name": "#%%\n"
    }
   },
   "outputs": [
    {
     "data": {
      "text/html": [
       "<div>\n",
       "<style scoped>\n",
       "    .dataframe tbody tr th:only-of-type {\n",
       "        vertical-align: middle;\n",
       "    }\n",
       "\n",
       "    .dataframe tbody tr th {\n",
       "        vertical-align: top;\n",
       "    }\n",
       "\n",
       "    .dataframe thead th {\n",
       "        text-align: right;\n",
       "    }\n",
       "</style>\n",
       "<table border=\"1\" class=\"dataframe\">\n",
       "  <thead>\n",
       "    <tr style=\"text-align: right;\">\n",
       "      <th></th>\n",
       "      <th>mean_fit_time</th>\n",
       "      <th>std_fit_time</th>\n",
       "      <th>mean_score_time</th>\n",
       "      <th>std_score_time</th>\n",
       "      <th>param_logistic__C</th>\n",
       "      <th>param_pca__n_components</th>\n",
       "      <th>params</th>\n",
       "      <th>split0_test_score</th>\n",
       "      <th>split1_test_score</th>\n",
       "      <th>split2_test_score</th>\n",
       "      <th>split3_test_score</th>\n",
       "      <th>split4_test_score</th>\n",
       "      <th>mean_test_score</th>\n",
       "      <th>std_test_score</th>\n",
       "      <th>rank_test_score</th>\n",
       "    </tr>\n",
       "  </thead>\n",
       "  <tbody>\n",
       "    <tr>\n",
       "      <th>0</th>\n",
       "      <td>0.102267</td>\n",
       "      <td>0.020251</td>\n",
       "      <td>0.001075</td>\n",
       "      <td>0.000550</td>\n",
       "      <td>0.0001</td>\n",
       "      <td>5</td>\n",
       "      <td>{'logistic__C': 0.0001, 'pca__n_components': 5}</td>\n",
       "      <td>0.780556</td>\n",
       "      <td>0.758333</td>\n",
       "      <td>0.802228</td>\n",
       "      <td>0.805014</td>\n",
       "      <td>0.746518</td>\n",
       "      <td>0.778530</td>\n",
       "      <td>0.023237</td>\n",
       "      <td>20</td>\n",
       "    </tr>\n",
       "    <tr>\n",
       "      <th>1</th>\n",
       "      <td>0.093958</td>\n",
       "      <td>0.026988</td>\n",
       "      <td>0.000809</td>\n",
       "      <td>0.000175</td>\n",
       "      <td>0.0001</td>\n",
       "      <td>15</td>\n",
       "      <td>{'logistic__C': 0.0001, 'pca__n_components': 15}</td>\n",
       "      <td>0.897222</td>\n",
       "      <td>0.858333</td>\n",
       "      <td>0.896936</td>\n",
       "      <td>0.938719</td>\n",
       "      <td>0.849582</td>\n",
       "      <td>0.888158</td>\n",
       "      <td>0.031916</td>\n",
       "      <td>14</td>\n",
       "    </tr>\n",
       "    <tr>\n",
       "      <th>2</th>\n",
       "      <td>0.088516</td>\n",
       "      <td>0.011245</td>\n",
       "      <td>0.001079</td>\n",
       "      <td>0.000271</td>\n",
       "      <td>0.0001</td>\n",
       "      <td>30</td>\n",
       "      <td>{'logistic__C': 0.0001, 'pca__n_components': 30}</td>\n",
       "      <td>0.905556</td>\n",
       "      <td>0.880556</td>\n",
       "      <td>0.910864</td>\n",
       "      <td>0.944290</td>\n",
       "      <td>0.857939</td>\n",
       "      <td>0.899841</td>\n",
       "      <td>0.029181</td>\n",
       "      <td>10</td>\n",
       "    </tr>\n",
       "    <tr>\n",
       "      <th>3</th>\n",
       "      <td>0.110302</td>\n",
       "      <td>0.012217</td>\n",
       "      <td>0.000932</td>\n",
       "      <td>0.000054</td>\n",
       "      <td>0.0001</td>\n",
       "      <td>45</td>\n",
       "      <td>{'logistic__C': 0.0001, 'pca__n_components': 45}</td>\n",
       "      <td>0.905556</td>\n",
       "      <td>0.877778</td>\n",
       "      <td>0.908078</td>\n",
       "      <td>0.944290</td>\n",
       "      <td>0.863510</td>\n",
       "      <td>0.899842</td>\n",
       "      <td>0.027867</td>\n",
       "      <td>9</td>\n",
       "    </tr>\n",
       "    <tr>\n",
       "      <th>4</th>\n",
       "      <td>0.096512</td>\n",
       "      <td>0.014151</td>\n",
       "      <td>0.001011</td>\n",
       "      <td>0.000222</td>\n",
       "      <td>0.0001</td>\n",
       "      <td>64</td>\n",
       "      <td>{'logistic__C': 0.0001, 'pca__n_components': 64}</td>\n",
       "      <td>0.905556</td>\n",
       "      <td>0.880556</td>\n",
       "      <td>0.908078</td>\n",
       "      <td>0.944290</td>\n",
       "      <td>0.863510</td>\n",
       "      <td>0.900398</td>\n",
       "      <td>0.027446</td>\n",
       "      <td>8</td>\n",
       "    </tr>\n",
       "    <tr>\n",
       "      <th>5</th>\n",
       "      <td>0.508299</td>\n",
       "      <td>0.088817</td>\n",
       "      <td>0.000676</td>\n",
       "      <td>0.000021</td>\n",
       "      <td>0.0464159</td>\n",
       "      <td>5</td>\n",
       "      <td>{'logistic__C': 0.046415888336127774, 'pca__n_...</td>\n",
       "      <td>0.838889</td>\n",
       "      <td>0.750000</td>\n",
       "      <td>0.844011</td>\n",
       "      <td>0.869081</td>\n",
       "      <td>0.818942</td>\n",
       "      <td>0.824184</td>\n",
       "      <td>0.040388</td>\n",
       "      <td>17</td>\n",
       "    </tr>\n",
       "    <tr>\n",
       "      <th>6</th>\n",
       "      <td>0.247117</td>\n",
       "      <td>0.027015</td>\n",
       "      <td>0.000728</td>\n",
       "      <td>0.000050</td>\n",
       "      <td>0.0464159</td>\n",
       "      <td>15</td>\n",
       "      <td>{'logistic__C': 0.046415888336127774, 'pca__n_...</td>\n",
       "      <td>0.930556</td>\n",
       "      <td>0.852778</td>\n",
       "      <td>0.927577</td>\n",
       "      <td>0.924791</td>\n",
       "      <td>0.888579</td>\n",
       "      <td>0.904856</td>\n",
       "      <td>0.030170</td>\n",
       "      <td>6</td>\n",
       "    </tr>\n",
       "    <tr>\n",
       "      <th>7</th>\n",
       "      <td>0.200191</td>\n",
       "      <td>0.020428</td>\n",
       "      <td>0.000845</td>\n",
       "      <td>0.000034</td>\n",
       "      <td>0.0464159</td>\n",
       "      <td>30</td>\n",
       "      <td>{'logistic__C': 0.046415888336127774, 'pca__n_...</td>\n",
       "      <td>0.922222</td>\n",
       "      <td>0.872222</td>\n",
       "      <td>0.933148</td>\n",
       "      <td>0.961003</td>\n",
       "      <td>0.899721</td>\n",
       "      <td>0.917663</td>\n",
       "      <td>0.030085</td>\n",
       "      <td>3</td>\n",
       "    </tr>\n",
       "    <tr>\n",
       "      <th>8</th>\n",
       "      <td>0.220054</td>\n",
       "      <td>0.032589</td>\n",
       "      <td>0.000936</td>\n",
       "      <td>0.000019</td>\n",
       "      <td>0.0464159</td>\n",
       "      <td>45</td>\n",
       "      <td>{'logistic__C': 0.046415888336127774, 'pca__n_...</td>\n",
       "      <td>0.925000</td>\n",
       "      <td>0.875000</td>\n",
       "      <td>0.941504</td>\n",
       "      <td>0.955432</td>\n",
       "      <td>0.902507</td>\n",
       "      <td>0.919889</td>\n",
       "      <td>0.028544</td>\n",
       "      <td>1</td>\n",
       "    </tr>\n",
       "    <tr>\n",
       "      <th>9</th>\n",
       "      <td>0.228675</td>\n",
       "      <td>0.014651</td>\n",
       "      <td>0.001065</td>\n",
       "      <td>0.000294</td>\n",
       "      <td>0.0464159</td>\n",
       "      <td>64</td>\n",
       "      <td>{'logistic__C': 0.046415888336127774, 'pca__n_...</td>\n",
       "      <td>0.925000</td>\n",
       "      <td>0.875000</td>\n",
       "      <td>0.938719</td>\n",
       "      <td>0.955432</td>\n",
       "      <td>0.905292</td>\n",
       "      <td>0.919889</td>\n",
       "      <td>0.027828</td>\n",
       "      <td>1</td>\n",
       "    </tr>\n",
       "    <tr>\n",
       "      <th>10</th>\n",
       "      <td>1.438185</td>\n",
       "      <td>0.323930</td>\n",
       "      <td>0.000792</td>\n",
       "      <td>0.000266</td>\n",
       "      <td>21.5443</td>\n",
       "      <td>5</td>\n",
       "      <td>{'logistic__C': 21.54434690031882, 'pca__n_com...</td>\n",
       "      <td>0.844444</td>\n",
       "      <td>0.747222</td>\n",
       "      <td>0.844011</td>\n",
       "      <td>0.863510</td>\n",
       "      <td>0.818942</td>\n",
       "      <td>0.823626</td>\n",
       "      <td>0.040741</td>\n",
       "      <td>18</td>\n",
       "    </tr>\n",
       "    <tr>\n",
       "      <th>11</th>\n",
       "      <td>1.533420</td>\n",
       "      <td>0.443593</td>\n",
       "      <td>0.000863</td>\n",
       "      <td>0.000301</td>\n",
       "      <td>21.5443</td>\n",
       "      <td>15</td>\n",
       "      <td>{'logistic__C': 21.54434690031882, 'pca__n_com...</td>\n",
       "      <td>0.936111</td>\n",
       "      <td>0.850000</td>\n",
       "      <td>0.888579</td>\n",
       "      <td>0.910864</td>\n",
       "      <td>0.832869</td>\n",
       "      <td>0.883685</td>\n",
       "      <td>0.038021</td>\n",
       "      <td>15</td>\n",
       "    </tr>\n",
       "    <tr>\n",
       "      <th>12</th>\n",
       "      <td>0.101796</td>\n",
       "      <td>0.018155</td>\n",
       "      <td>0.000775</td>\n",
       "      <td>0.000042</td>\n",
       "      <td>21.5443</td>\n",
       "      <td>30</td>\n",
       "      <td>{'logistic__C': 21.54434690031882, 'pca__n_com...</td>\n",
       "      <td>0.911111</td>\n",
       "      <td>0.858333</td>\n",
       "      <td>0.913649</td>\n",
       "      <td>0.935933</td>\n",
       "      <td>0.885794</td>\n",
       "      <td>0.900964</td>\n",
       "      <td>0.026587</td>\n",
       "      <td>7</td>\n",
       "    </tr>\n",
       "    <tr>\n",
       "      <th>13</th>\n",
       "      <td>0.085616</td>\n",
       "      <td>0.008856</td>\n",
       "      <td>0.000811</td>\n",
       "      <td>0.000034</td>\n",
       "      <td>21.5443</td>\n",
       "      <td>45</td>\n",
       "      <td>{'logistic__C': 21.54434690031882, 'pca__n_com...</td>\n",
       "      <td>0.916667</td>\n",
       "      <td>0.866667</td>\n",
       "      <td>0.933148</td>\n",
       "      <td>0.935933</td>\n",
       "      <td>0.888579</td>\n",
       "      <td>0.908199</td>\n",
       "      <td>0.026733</td>\n",
       "      <td>5</td>\n",
       "    </tr>\n",
       "    <tr>\n",
       "      <th>14</th>\n",
       "      <td>0.074430</td>\n",
       "      <td>0.009379</td>\n",
       "      <td>0.000985</td>\n",
       "      <td>0.000116</td>\n",
       "      <td>21.5443</td>\n",
       "      <td>64</td>\n",
       "      <td>{'logistic__C': 21.54434690031882, 'pca__n_com...</td>\n",
       "      <td>0.916667</td>\n",
       "      <td>0.875000</td>\n",
       "      <td>0.930362</td>\n",
       "      <td>0.938719</td>\n",
       "      <td>0.891365</td>\n",
       "      <td>0.910422</td>\n",
       "      <td>0.023896</td>\n",
       "      <td>4</td>\n",
       "    </tr>\n",
       "    <tr>\n",
       "      <th>15</th>\n",
       "      <td>0.963670</td>\n",
       "      <td>0.373900</td>\n",
       "      <td>0.000850</td>\n",
       "      <td>0.000403</td>\n",
       "      <td>10000</td>\n",
       "      <td>5</td>\n",
       "      <td>{'logistic__C': 10000.0, 'pca__n_components': 5}</td>\n",
       "      <td>0.841667</td>\n",
       "      <td>0.744444</td>\n",
       "      <td>0.844011</td>\n",
       "      <td>0.863510</td>\n",
       "      <td>0.818942</td>\n",
       "      <td>0.822515</td>\n",
       "      <td>0.041514</td>\n",
       "      <td>19</td>\n",
       "    </tr>\n",
       "    <tr>\n",
       "      <th>16</th>\n",
       "      <td>1.315796</td>\n",
       "      <td>0.217962</td>\n",
       "      <td>0.000512</td>\n",
       "      <td>0.000104</td>\n",
       "      <td>10000</td>\n",
       "      <td>15</td>\n",
       "      <td>{'logistic__C': 10000.0, 'pca__n_components': 15}</td>\n",
       "      <td>0.933333</td>\n",
       "      <td>0.830556</td>\n",
       "      <td>0.885794</td>\n",
       "      <td>0.910864</td>\n",
       "      <td>0.832869</td>\n",
       "      <td>0.878683</td>\n",
       "      <td>0.041202</td>\n",
       "      <td>16</td>\n",
       "    </tr>\n",
       "    <tr>\n",
       "      <th>17</th>\n",
       "      <td>0.051865</td>\n",
       "      <td>0.001738</td>\n",
       "      <td>0.000837</td>\n",
       "      <td>0.000135</td>\n",
       "      <td>10000</td>\n",
       "      <td>30</td>\n",
       "      <td>{'logistic__C': 10000.0, 'pca__n_components': 30}</td>\n",
       "      <td>0.894444</td>\n",
       "      <td>0.852778</td>\n",
       "      <td>0.902507</td>\n",
       "      <td>0.938719</td>\n",
       "      <td>0.863510</td>\n",
       "      <td>0.890392</td>\n",
       "      <td>0.030450</td>\n",
       "      <td>13</td>\n",
       "    </tr>\n",
       "    <tr>\n",
       "      <th>18</th>\n",
       "      <td>0.059693</td>\n",
       "      <td>0.002224</td>\n",
       "      <td>0.000834</td>\n",
       "      <td>0.000020</td>\n",
       "      <td>10000</td>\n",
       "      <td>45</td>\n",
       "      <td>{'logistic__C': 10000.0, 'pca__n_components': 45}</td>\n",
       "      <td>0.891667</td>\n",
       "      <td>0.844444</td>\n",
       "      <td>0.910864</td>\n",
       "      <td>0.938719</td>\n",
       "      <td>0.885794</td>\n",
       "      <td>0.894297</td>\n",
       "      <td>0.031023</td>\n",
       "      <td>12</td>\n",
       "    </tr>\n",
       "    <tr>\n",
       "      <th>19</th>\n",
       "      <td>0.050586</td>\n",
       "      <td>0.003133</td>\n",
       "      <td>0.001404</td>\n",
       "      <td>0.000564</td>\n",
       "      <td>10000</td>\n",
       "      <td>64</td>\n",
       "      <td>{'logistic__C': 10000.0, 'pca__n_components': 64}</td>\n",
       "      <td>0.897222</td>\n",
       "      <td>0.844444</td>\n",
       "      <td>0.913649</td>\n",
       "      <td>0.935933</td>\n",
       "      <td>0.888579</td>\n",
       "      <td>0.895966</td>\n",
       "      <td>0.030400</td>\n",
       "      <td>11</td>\n",
       "    </tr>\n",
       "  </tbody>\n",
       "</table>\n",
       "</div>"
      ],
      "text/plain": [
       "    mean_fit_time  std_fit_time  mean_score_time  std_score_time  \\\n",
       "0        0.102267      0.020251         0.001075        0.000550   \n",
       "1        0.093958      0.026988         0.000809        0.000175   \n",
       "2        0.088516      0.011245         0.001079        0.000271   \n",
       "3        0.110302      0.012217         0.000932        0.000054   \n",
       "4        0.096512      0.014151         0.001011        0.000222   \n",
       "5        0.508299      0.088817         0.000676        0.000021   \n",
       "6        0.247117      0.027015         0.000728        0.000050   \n",
       "7        0.200191      0.020428         0.000845        0.000034   \n",
       "8        0.220054      0.032589         0.000936        0.000019   \n",
       "9        0.228675      0.014651         0.001065        0.000294   \n",
       "10       1.438185      0.323930         0.000792        0.000266   \n",
       "11       1.533420      0.443593         0.000863        0.000301   \n",
       "12       0.101796      0.018155         0.000775        0.000042   \n",
       "13       0.085616      0.008856         0.000811        0.000034   \n",
       "14       0.074430      0.009379         0.000985        0.000116   \n",
       "15       0.963670      0.373900         0.000850        0.000403   \n",
       "16       1.315796      0.217962         0.000512        0.000104   \n",
       "17       0.051865      0.001738         0.000837        0.000135   \n",
       "18       0.059693      0.002224         0.000834        0.000020   \n",
       "19       0.050586      0.003133         0.001404        0.000564   \n",
       "\n",
       "   param_logistic__C param_pca__n_components  \\\n",
       "0             0.0001                       5   \n",
       "1             0.0001                      15   \n",
       "2             0.0001                      30   \n",
       "3             0.0001                      45   \n",
       "4             0.0001                      64   \n",
       "5          0.0464159                       5   \n",
       "6          0.0464159                      15   \n",
       "7          0.0464159                      30   \n",
       "8          0.0464159                      45   \n",
       "9          0.0464159                      64   \n",
       "10           21.5443                       5   \n",
       "11           21.5443                      15   \n",
       "12           21.5443                      30   \n",
       "13           21.5443                      45   \n",
       "14           21.5443                      64   \n",
       "15             10000                       5   \n",
       "16             10000                      15   \n",
       "17             10000                      30   \n",
       "18             10000                      45   \n",
       "19             10000                      64   \n",
       "\n",
       "                                               params  split0_test_score  \\\n",
       "0     {'logistic__C': 0.0001, 'pca__n_components': 5}           0.780556   \n",
       "1    {'logistic__C': 0.0001, 'pca__n_components': 15}           0.897222   \n",
       "2    {'logistic__C': 0.0001, 'pca__n_components': 30}           0.905556   \n",
       "3    {'logistic__C': 0.0001, 'pca__n_components': 45}           0.905556   \n",
       "4    {'logistic__C': 0.0001, 'pca__n_components': 64}           0.905556   \n",
       "5   {'logistic__C': 0.046415888336127774, 'pca__n_...           0.838889   \n",
       "6   {'logistic__C': 0.046415888336127774, 'pca__n_...           0.930556   \n",
       "7   {'logistic__C': 0.046415888336127774, 'pca__n_...           0.922222   \n",
       "8   {'logistic__C': 0.046415888336127774, 'pca__n_...           0.925000   \n",
       "9   {'logistic__C': 0.046415888336127774, 'pca__n_...           0.925000   \n",
       "10  {'logistic__C': 21.54434690031882, 'pca__n_com...           0.844444   \n",
       "11  {'logistic__C': 21.54434690031882, 'pca__n_com...           0.936111   \n",
       "12  {'logistic__C': 21.54434690031882, 'pca__n_com...           0.911111   \n",
       "13  {'logistic__C': 21.54434690031882, 'pca__n_com...           0.916667   \n",
       "14  {'logistic__C': 21.54434690031882, 'pca__n_com...           0.916667   \n",
       "15   {'logistic__C': 10000.0, 'pca__n_components': 5}           0.841667   \n",
       "16  {'logistic__C': 10000.0, 'pca__n_components': 15}           0.933333   \n",
       "17  {'logistic__C': 10000.0, 'pca__n_components': 30}           0.894444   \n",
       "18  {'logistic__C': 10000.0, 'pca__n_components': 45}           0.891667   \n",
       "19  {'logistic__C': 10000.0, 'pca__n_components': 64}           0.897222   \n",
       "\n",
       "    split1_test_score  split2_test_score  split3_test_score  \\\n",
       "0            0.758333           0.802228           0.805014   \n",
       "1            0.858333           0.896936           0.938719   \n",
       "2            0.880556           0.910864           0.944290   \n",
       "3            0.877778           0.908078           0.944290   \n",
       "4            0.880556           0.908078           0.944290   \n",
       "5            0.750000           0.844011           0.869081   \n",
       "6            0.852778           0.927577           0.924791   \n",
       "7            0.872222           0.933148           0.961003   \n",
       "8            0.875000           0.941504           0.955432   \n",
       "9            0.875000           0.938719           0.955432   \n",
       "10           0.747222           0.844011           0.863510   \n",
       "11           0.850000           0.888579           0.910864   \n",
       "12           0.858333           0.913649           0.935933   \n",
       "13           0.866667           0.933148           0.935933   \n",
       "14           0.875000           0.930362           0.938719   \n",
       "15           0.744444           0.844011           0.863510   \n",
       "16           0.830556           0.885794           0.910864   \n",
       "17           0.852778           0.902507           0.938719   \n",
       "18           0.844444           0.910864           0.938719   \n",
       "19           0.844444           0.913649           0.935933   \n",
       "\n",
       "    split4_test_score  mean_test_score  std_test_score  rank_test_score  \n",
       "0            0.746518         0.778530        0.023237               20  \n",
       "1            0.849582         0.888158        0.031916               14  \n",
       "2            0.857939         0.899841        0.029181               10  \n",
       "3            0.863510         0.899842        0.027867                9  \n",
       "4            0.863510         0.900398        0.027446                8  \n",
       "5            0.818942         0.824184        0.040388               17  \n",
       "6            0.888579         0.904856        0.030170                6  \n",
       "7            0.899721         0.917663        0.030085                3  \n",
       "8            0.902507         0.919889        0.028544                1  \n",
       "9            0.905292         0.919889        0.027828                1  \n",
       "10           0.818942         0.823626        0.040741               18  \n",
       "11           0.832869         0.883685        0.038021               15  \n",
       "12           0.885794         0.900964        0.026587                7  \n",
       "13           0.888579         0.908199        0.026733                5  \n",
       "14           0.891365         0.910422        0.023896                4  \n",
       "15           0.818942         0.822515        0.041514               19  \n",
       "16           0.832869         0.878683        0.041202               16  \n",
       "17           0.863510         0.890392        0.030450               13  \n",
       "18           0.885794         0.894297        0.031023               12  \n",
       "19           0.888579         0.895966        0.030400               11  "
      ]
     },
     "execution_count": 11,
     "metadata": {},
     "output_type": "execute_result"
    }
   ],
   "source": [
    "results = pd.DataFrame(search.cv_results_)\n",
    "results"
   ]
  },
  {
   "cell_type": "markdown",
   "metadata": {},
   "source": [
    "Let's index these results by the hyper-parameters"
   ]
  },
  {
   "cell_type": "code",
   "execution_count": null,
   "metadata": {},
   "outputs": [],
   "source": [
    "results = results.set_index(['param_pca__n_components','param_logistic__C']).sort_index()\n",
    "results"
   ]
  },
  {
   "cell_type": "code",
   "execution_count": null,
   "metadata": {
    "collapsed": false,
    "jupyter": {
     "outputs_hidden": false
    },
    "pycharm": {
     "name": "#%%\n"
    }
   },
   "outputs": [],
   "source": [
    "# Take the best C for each `n_components`\n",
    "best_clfs = results.reset_index().groupby('param_pca__n_components').apply(\n",
    "    lambda g: g.nlargest(1, 'mean_test_score'))"
   ]
  },
  {
   "cell_type": "code",
   "execution_count": null,
   "metadata": {},
   "outputs": [],
   "source": [
    "best_clfs"
   ]
  },
  {
   "cell_type": "code",
   "execution_count": null,
   "metadata": {
    "collapsed": false,
    "jupyter": {
     "outputs_hidden": false
    },
    "pycharm": {
     "name": "#%%\n"
    }
   },
   "outputs": [],
   "source": [
    "fig, ax1 = plt.subplots(nrows=1, figsize=(6, 6))\n",
    "\n",
    "best_clfs.plot(x='param_pca__n_components', y='mean_test_score', yerr='std_test_score',\n",
    "               legend=False, ax=ax1)\n",
    "ax1.set_ylabel('Classification accuracy (val)')\n",
    "ax1.set_xlabel('n_components')\n",
    "\n",
    "plt.xlim(-1, 70)\n",
    "\n",
    "plt.tight_layout()\n",
    "plt.show()"
   ]
  },
  {
   "cell_type": "code",
   "execution_count": null,
   "metadata": {},
   "outputs": [],
   "source": []
  }
 ],
 "metadata": {
  "kernelspec": {
   "display_name": "Python 3",
   "language": "python",
   "name": "python3"
  },
  "language_info": {
   "codemirror_mode": {
    "name": "ipython",
    "version": 3
   },
   "file_extension": ".py",
   "mimetype": "text/x-python",
   "name": "python",
   "nbconvert_exporter": "python",
   "pygments_lexer": "ipython3",
   "version": "3.7.4"
  }
 },
 "nbformat": 4,
 "nbformat_minor": 4
}